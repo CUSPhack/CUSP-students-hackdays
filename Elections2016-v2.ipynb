{
 "cells": [
  {
   "cell_type": "code",
   "execution_count": 1,
   "metadata": {
    "collapsed": false
   },
   "outputs": [
    {
     "name": "stderr",
     "output_type": "stream",
     "text": [
      "/Users/Xianbo/anaconda/lib/python2.7/site-packages/matplotlib/font_manager.py:273: UserWarning: Matplotlib is building the font cache using fc-list. This may take a moment.\n",
      "  warnings.warn('Matplotlib is building the font cache using fc-list. This may take a moment.')\n"
     ]
    },
    {
     "name": "stdout",
     "output_type": "stream",
     "text": [
      "Populating the interactive namespace from numpy and matplotlib\n"
     ]
    }
   ],
   "source": [
    "import numpy as np\n",
    "from numpy import random\n",
    "from scipy import stats\n",
    "import matplotlib.pyplot as plt\n",
    "%pylab inline\n",
    "import pandas as pd\n",
    "import statsmodels.formula.api as smf\n",
    "import urllib"
   ]
  },
  {
   "cell_type": "code",
   "execution_count": 5,
   "metadata": {
    "collapsed": false
   },
   "outputs": [],
   "source": [
    "data = pd.read_csv('countytable.csv' , index_col=0 )"
   ]
  },
  {
   "cell_type": "code",
   "execution_count": 6,
   "metadata": {
    "collapsed": false
   },
   "outputs": [
    {
     "data": {
      "text/html": [
       "<div>\n",
       "<table border=\"1\" class=\"dataframe\">\n",
       "  <thead>\n",
       "    <tr style=\"text-align: right;\">\n",
       "      <th></th>\n",
       "      <th>trump</th>\n",
       "      <th>clinton</th>\n",
       "      <th>processed</th>\n",
       "      <th>area_name</th>\n",
       "      <th>state_abbreviation</th>\n",
       "      <th>PST045214</th>\n",
       "      <th>PST040210</th>\n",
       "      <th>PST120214</th>\n",
       "      <th>POP010210</th>\n",
       "      <th>AGE135214</th>\n",
       "      <th>...</th>\n",
       "      <th>SBO015207</th>\n",
       "      <th>MAN450207</th>\n",
       "      <th>WTN220207</th>\n",
       "      <th>RTN130207</th>\n",
       "      <th>RTN131207</th>\n",
       "      <th>AFN120207</th>\n",
       "      <th>BPS030214</th>\n",
       "      <th>LND110210</th>\n",
       "      <th>POP060210</th>\n",
       "      <th>trumpp</th>\n",
       "    </tr>\n",
       "    <tr>\n",
       "      <th>fips</th>\n",
       "      <th></th>\n",
       "      <th></th>\n",
       "      <th></th>\n",
       "      <th></th>\n",
       "      <th></th>\n",
       "      <th></th>\n",
       "      <th></th>\n",
       "      <th></th>\n",
       "      <th></th>\n",
       "      <th></th>\n",
       "      <th></th>\n",
       "      <th></th>\n",
       "      <th></th>\n",
       "      <th></th>\n",
       "      <th></th>\n",
       "      <th></th>\n",
       "      <th></th>\n",
       "      <th></th>\n",
       "      <th></th>\n",
       "      <th></th>\n",
       "      <th></th>\n",
       "    </tr>\n",
       "  </thead>\n",
       "  <tbody>\n",
       "    <tr>\n",
       "      <th>1001</th>\n",
       "      <td>18110</td>\n",
       "      <td>5908</td>\n",
       "      <td>100</td>\n",
       "      <td>Autauga County</td>\n",
       "      <td>AL</td>\n",
       "      <td>55395</td>\n",
       "      <td>54571</td>\n",
       "      <td>1.5</td>\n",
       "      <td>54571</td>\n",
       "      <td>6.0</td>\n",
       "      <td>...</td>\n",
       "      <td>31.7</td>\n",
       "      <td>0</td>\n",
       "      <td>0</td>\n",
       "      <td>598175</td>\n",
       "      <td>12003</td>\n",
       "      <td>88157</td>\n",
       "      <td>131</td>\n",
       "      <td>594.44</td>\n",
       "      <td>91.8</td>\n",
       "      <td>0.754018</td>\n",
       "    </tr>\n",
       "    <tr>\n",
       "      <th>1003</th>\n",
       "      <td>72780</td>\n",
       "      <td>18409</td>\n",
       "      <td>100</td>\n",
       "      <td>Baldwin County</td>\n",
       "      <td>AL</td>\n",
       "      <td>200111</td>\n",
       "      <td>182265</td>\n",
       "      <td>9.8</td>\n",
       "      <td>182265</td>\n",
       "      <td>5.6</td>\n",
       "      <td>...</td>\n",
       "      <td>27.3</td>\n",
       "      <td>1410273</td>\n",
       "      <td>0</td>\n",
       "      <td>2966489</td>\n",
       "      <td>17166</td>\n",
       "      <td>436955</td>\n",
       "      <td>1384</td>\n",
       "      <td>1589.78</td>\n",
       "      <td>114.6</td>\n",
       "      <td>0.798123</td>\n",
       "    </tr>\n",
       "    <tr>\n",
       "      <th>1005</th>\n",
       "      <td>5431</td>\n",
       "      <td>4848</td>\n",
       "      <td>100</td>\n",
       "      <td>Barbour County</td>\n",
       "      <td>AL</td>\n",
       "      <td>26887</td>\n",
       "      <td>27457</td>\n",
       "      <td>-2.1</td>\n",
       "      <td>27457</td>\n",
       "      <td>5.7</td>\n",
       "      <td>...</td>\n",
       "      <td>27.0</td>\n",
       "      <td>0</td>\n",
       "      <td>0</td>\n",
       "      <td>188337</td>\n",
       "      <td>6334</td>\n",
       "      <td>0</td>\n",
       "      <td>8</td>\n",
       "      <td>884.88</td>\n",
       "      <td>31.0</td>\n",
       "      <td>0.528359</td>\n",
       "    </tr>\n",
       "    <tr>\n",
       "      <th>1007</th>\n",
       "      <td>6733</td>\n",
       "      <td>1874</td>\n",
       "      <td>100</td>\n",
       "      <td>Bibb County</td>\n",
       "      <td>AL</td>\n",
       "      <td>22506</td>\n",
       "      <td>22919</td>\n",
       "      <td>-1.8</td>\n",
       "      <td>22915</td>\n",
       "      <td>5.3</td>\n",
       "      <td>...</td>\n",
       "      <td>0.0</td>\n",
       "      <td>0</td>\n",
       "      <td>0</td>\n",
       "      <td>124707</td>\n",
       "      <td>5804</td>\n",
       "      <td>10757</td>\n",
       "      <td>19</td>\n",
       "      <td>622.58</td>\n",
       "      <td>36.8</td>\n",
       "      <td>0.782270</td>\n",
       "    </tr>\n",
       "    <tr>\n",
       "      <th>1009</th>\n",
       "      <td>22808</td>\n",
       "      <td>2150</td>\n",
       "      <td>100</td>\n",
       "      <td>Blount County</td>\n",
       "      <td>AL</td>\n",
       "      <td>57719</td>\n",
       "      <td>57322</td>\n",
       "      <td>0.7</td>\n",
       "      <td>57322</td>\n",
       "      <td>6.1</td>\n",
       "      <td>...</td>\n",
       "      <td>23.2</td>\n",
       "      <td>341544</td>\n",
       "      <td>0</td>\n",
       "      <td>319700</td>\n",
       "      <td>5622</td>\n",
       "      <td>20941</td>\n",
       "      <td>3</td>\n",
       "      <td>644.78</td>\n",
       "      <td>88.9</td>\n",
       "      <td>0.913855</td>\n",
       "    </tr>\n",
       "  </tbody>\n",
       "</table>\n",
       "<p>5 rows × 57 columns</p>\n",
       "</div>"
      ],
      "text/plain": [
       "      trump  clinton  processed       area_name state_abbreviation  PST045214  \\\n",
       "fips                                                                            \n",
       "1001  18110     5908        100  Autauga County                 AL      55395   \n",
       "1003  72780    18409        100  Baldwin County                 AL     200111   \n",
       "1005   5431     4848        100  Barbour County                 AL      26887   \n",
       "1007   6733     1874        100     Bibb County                 AL      22506   \n",
       "1009  22808     2150        100   Blount County                 AL      57719   \n",
       "\n",
       "      PST040210  PST120214  POP010210  AGE135214    ...     SBO015207  \\\n",
       "fips                                                ...                 \n",
       "1001      54571        1.5      54571        6.0    ...          31.7   \n",
       "1003     182265        9.8     182265        5.6    ...          27.3   \n",
       "1005      27457       -2.1      27457        5.7    ...          27.0   \n",
       "1007      22919       -1.8      22915        5.3    ...           0.0   \n",
       "1009      57322        0.7      57322        6.1    ...          23.2   \n",
       "\n",
       "      MAN450207  WTN220207  RTN130207  RTN131207  AFN120207  BPS030214  \\\n",
       "fips                                                                     \n",
       "1001          0          0     598175      12003      88157        131   \n",
       "1003    1410273          0    2966489      17166     436955       1384   \n",
       "1005          0          0     188337       6334          0          8   \n",
       "1007          0          0     124707       5804      10757         19   \n",
       "1009     341544          0     319700       5622      20941          3   \n",
       "\n",
       "      LND110210  POP060210    trumpp  \n",
       "fips                                  \n",
       "1001     594.44       91.8  0.754018  \n",
       "1003    1589.78      114.6  0.798123  \n",
       "1005     884.88       31.0  0.528359  \n",
       "1007     622.58       36.8  0.782270  \n",
       "1009     644.78       88.9  0.913855  \n",
       "\n",
       "[5 rows x 57 columns]"
      ]
     },
     "execution_count": 6,
     "metadata": {},
     "output_type": "execute_result"
    }
   ],
   "source": [
    "data.head()"
   ]
  },
  {
   "cell_type": "code",
   "execution_count": 7,
   "metadata": {
    "collapsed": false
   },
   "outputs": [],
   "source": [
    "data.rename(columns={'PST045214': 'Population'}, inplace=True)"
   ]
  },
  {
   "cell_type": "code",
   "execution_count": 8,
   "metadata": {
    "collapsed": true
   },
   "outputs": [],
   "source": [
    "data.rename(columns={'AGE295214': 'Population18'}, inplace=True)"
   ]
  },
  {
   "cell_type": "code",
   "execution_count": 9,
   "metadata": {
    "collapsed": true
   },
   "outputs": [],
   "source": [
    "data.rename(columns={'AGE775214': 'Population65'}, inplace=True)"
   ]
  },
  {
   "cell_type": "code",
   "execution_count": 10,
   "metadata": {
    "collapsed": true
   },
   "outputs": [],
   "source": [
    "data.rename(columns={'SEX255214': 'Female'}, inplace=True)"
   ]
  },
  {
   "cell_type": "code",
   "execution_count": 11,
   "metadata": {
    "collapsed": true
   },
   "outputs": [],
   "source": [
    "data.rename(columns={'SEX255214': 'Female'}, inplace=True)"
   ]
  },
  {
   "cell_type": "code",
   "execution_count": 12,
   "metadata": {
    "collapsed": true
   },
   "outputs": [],
   "source": [
    "data.rename(columns={'RHI125214': 'White'}, inplace=True)"
   ]
  },
  {
   "cell_type": "code",
   "execution_count": 13,
   "metadata": {
    "collapsed": true
   },
   "outputs": [],
   "source": [
    "data.rename(columns={'RHI225214': 'Black'}, inplace=True)"
   ]
  },
  {
   "cell_type": "code",
   "execution_count": 14,
   "metadata": {
    "collapsed": true
   },
   "outputs": [],
   "source": [
    "data.rename(columns={'RHI425214': 'Asian'}, inplace=True)"
   ]
  },
  {
   "cell_type": "code",
   "execution_count": 15,
   "metadata": {
    "collapsed": true
   },
   "outputs": [],
   "source": [
    "data.rename(columns={'POP645213': 'Foreign'}, inplace=True)"
   ]
  },
  {
   "cell_type": "code",
   "execution_count": 16,
   "metadata": {
    "collapsed": true
   },
   "outputs": [],
   "source": [
    "data.rename(columns={'EDU685213': 'Bachelor'}, inplace=True)"
   ]
  },
  {
   "cell_type": "code",
   "execution_count": 17,
   "metadata": {
    "collapsed": true
   },
   "outputs": [],
   "source": [
    "data.rename(columns={'RHI725214': 'Latino'}, inplace=True)"
   ]
  },
  {
   "cell_type": "code",
   "execution_count": 18,
   "metadata": {
    "collapsed": true
   },
   "outputs": [],
   "source": [
    "data.rename(columns={'RHI625214': 'Mixed'}, inplace=True)"
   ]
  },
  {
   "cell_type": "code",
   "execution_count": 19,
   "metadata": {
    "collapsed": true
   },
   "outputs": [],
   "source": [
    "data.rename(columns={'RHI825214': 'WhiteNH'}, inplace=True)"
   ]
  },
  {
   "cell_type": "code",
   "execution_count": 20,
   "metadata": {
    "collapsed": true
   },
   "outputs": [],
   "source": [
    "data.rename(columns={'POP060210': 'Density'}, inplace=True)"
   ]
  },
  {
   "cell_type": "code",
   "execution_count": 21,
   "metadata": {
    "collapsed": true
   },
   "outputs": [],
   "source": [
    "data.rename(columns={'HSG445213': 'HomeOwners'}, inplace=True)"
   ]
  },
  {
   "cell_type": "code",
   "execution_count": 22,
   "metadata": {
    "collapsed": true
   },
   "outputs": [],
   "source": [
    "data.rename(columns={'INC910213': 'Income'}, inplace=True)"
   ]
  },
  {
   "cell_type": "code",
   "execution_count": 101,
   "metadata": {
    "collapsed": false
   },
   "outputs": [
    {
     "data": {
      "text/plain": [
       "(2640, 83)"
      ]
     },
     "execution_count": 101,
     "metadata": {},
     "output_type": "execute_result"
    }
   ],
   "source": []
  },
  {
   "cell_type": "code",
   "execution_count": 324,
   "metadata": {
    "collapsed": false
   },
   "outputs": [],
   "source": [
    "data_pop = pd.read_csv('PopulationEstimates.csv')"
   ]
  },
  {
   "cell_type": "code",
   "execution_count": 334,
   "metadata": {
    "collapsed": false
   },
   "outputs": [],
   "source": [
    "data_pop['Area_Name'] = data_pop['Area_Name'].str.replace('County','')"
   ]
  },
  {
   "cell_type": "code",
   "execution_count": 337,
   "metadata": {
    "collapsed": false
   },
   "outputs": [
    {
     "data": {
      "text/html": [
       "<div>\n",
       "<table border=\"1\" class=\"dataframe\">\n",
       "  <thead>\n",
       "    <tr style=\"text-align: right;\">\n",
       "      <th></th>\n",
       "      <th>FIPS</th>\n",
       "      <th>Rural-urban_Continuum Code_2003</th>\n",
       "      <th>Rural-urban_Continuum Code_2013</th>\n",
       "      <th>Urban_Influence_Code_2003</th>\n",
       "      <th>Urban_Influence_Code_2013</th>\n",
       "      <th>Economic_typology_2015</th>\n",
       "      <th>R_birth_2011</th>\n",
       "      <th>R_birth_2012</th>\n",
       "      <th>R_birth_2013</th>\n",
       "      <th>R_birth_2014</th>\n",
       "      <th>...</th>\n",
       "      <th>R_DOMESTIC_MIG_2011</th>\n",
       "      <th>R_DOMESTIC_MIG_2012</th>\n",
       "      <th>R_DOMESTIC_MIG_2013</th>\n",
       "      <th>R_DOMESTIC_MIG_2014</th>\n",
       "      <th>R_DOMESTIC_MIG_2015</th>\n",
       "      <th>R_NET_MIG_2011</th>\n",
       "      <th>R_NET_MIG_2012</th>\n",
       "      <th>R_NET_MIG_2013</th>\n",
       "      <th>R_NET_MIG_2014</th>\n",
       "      <th>R_NET_MIG_2015</th>\n",
       "    </tr>\n",
       "    <tr>\n",
       "      <th>State</th>\n",
       "      <th></th>\n",
       "      <th></th>\n",
       "      <th></th>\n",
       "      <th></th>\n",
       "      <th></th>\n",
       "      <th></th>\n",
       "      <th></th>\n",
       "      <th></th>\n",
       "      <th></th>\n",
       "      <th></th>\n",
       "      <th></th>\n",
       "      <th></th>\n",
       "      <th></th>\n",
       "      <th></th>\n",
       "      <th></th>\n",
       "      <th></th>\n",
       "      <th></th>\n",
       "      <th></th>\n",
       "      <th></th>\n",
       "      <th></th>\n",
       "      <th></th>\n",
       "    </tr>\n",
       "  </thead>\n",
       "  <tbody>\n",
       "    <tr>\n",
       "      <th>AK</th>\n",
       "      <td>64340</td>\n",
       "      <td>171.0</td>\n",
       "      <td>220.0</td>\n",
       "      <td>221.0</td>\n",
       "      <td>291.0</td>\n",
       "      <td>90.0</td>\n",
       "      <td>480.6</td>\n",
       "      <td>439.5</td>\n",
       "      <td>433.8</td>\n",
       "      <td>423.1</td>\n",
       "      <td>...</td>\n",
       "      <td>-34.5</td>\n",
       "      <td>-154.4</td>\n",
       "      <td>-272.8</td>\n",
       "      <td>-536.7</td>\n",
       "      <td>-389.9</td>\n",
       "      <td>64.2</td>\n",
       "      <td>-46.2</td>\n",
       "      <td>-168.7</td>\n",
       "      <td>-422.3</td>\n",
       "      <td>-271.6</td>\n",
       "    </tr>\n",
       "    <tr>\n",
       "      <th>AL</th>\n",
       "      <td>72489</td>\n",
       "      <td>322.0</td>\n",
       "      <td>311.0</td>\n",
       "      <td>300.0</td>\n",
       "      <td>294.0</td>\n",
       "      <td>113.0</td>\n",
       "      <td>803.5</td>\n",
       "      <td>788.8</td>\n",
       "      <td>773.9</td>\n",
       "      <td>771.4</td>\n",
       "      <td>...</td>\n",
       "      <td>-227.2</td>\n",
       "      <td>-204.3</td>\n",
       "      <td>-145.8</td>\n",
       "      <td>-114.2</td>\n",
       "      <td>-131.8</td>\n",
       "      <td>-185.1</td>\n",
       "      <td>-156.1</td>\n",
       "      <td>-99.5</td>\n",
       "      <td>-61.6</td>\n",
       "      <td>-76.7</td>\n",
       "    </tr>\n",
       "    <tr>\n",
       "      <th>AR</th>\n",
       "      <td>385625</td>\n",
       "      <td>423.0</td>\n",
       "      <td>423.0</td>\n",
       "      <td>450.0</td>\n",
       "      <td>440.0</td>\n",
       "      <td>115.0</td>\n",
       "      <td>902.8</td>\n",
       "      <td>906.3</td>\n",
       "      <td>889.8</td>\n",
       "      <td>887.5</td>\n",
       "      <td>...</td>\n",
       "      <td>-185.4</td>\n",
       "      <td>-371.0</td>\n",
       "      <td>-322.7</td>\n",
       "      <td>-416.8</td>\n",
       "      <td>-330.0</td>\n",
       "      <td>-152.9</td>\n",
       "      <td>-338.0</td>\n",
       "      <td>-286.1</td>\n",
       "      <td>-373.5</td>\n",
       "      <td>-285.8</td>\n",
       "    </tr>\n",
       "    <tr>\n",
       "      <th>AZ</th>\n",
       "      <td>64208</td>\n",
       "      <td>58.0</td>\n",
       "      <td>57.0</td>\n",
       "      <td>58.0</td>\n",
       "      <td>54.0</td>\n",
       "      <td>52.0</td>\n",
       "      <td>210.8</td>\n",
       "      <td>200.7</td>\n",
       "      <td>200.5</td>\n",
       "      <td>204.2</td>\n",
       "      <td>...</td>\n",
       "      <td>7.5</td>\n",
       "      <td>-23.3</td>\n",
       "      <td>-33.0</td>\n",
       "      <td>36.4</td>\n",
       "      <td>-0.9</td>\n",
       "      <td>28.4</td>\n",
       "      <td>-0.4</td>\n",
       "      <td>-9.6</td>\n",
       "      <td>62.9</td>\n",
       "      <td>26.3</td>\n",
       "    </tr>\n",
       "    <tr>\n",
       "      <th>CA</th>\n",
       "      <td>357364</td>\n",
       "      <td>196.0</td>\n",
       "      <td>194.0</td>\n",
       "      <td>193.0</td>\n",
       "      <td>195.0</td>\n",
       "      <td>140.0</td>\n",
       "      <td>723.0</td>\n",
       "      <td>704.5</td>\n",
       "      <td>697.5</td>\n",
       "      <td>698.1</td>\n",
       "      <td>...</td>\n",
       "      <td>-247.2</td>\n",
       "      <td>-223.7</td>\n",
       "      <td>-202.1</td>\n",
       "      <td>-118.9</td>\n",
       "      <td>-45.7</td>\n",
       "      <td>-123.4</td>\n",
       "      <td>-100.4</td>\n",
       "      <td>-71.8</td>\n",
       "      <td>31.1</td>\n",
       "      <td>107.2</td>\n",
       "    </tr>\n",
       "    <tr>\n",
       "      <th>CO</th>\n",
       "      <td>523983</td>\n",
       "      <td>381.0</td>\n",
       "      <td>371.0</td>\n",
       "      <td>464.0</td>\n",
       "      <td>457.0</td>\n",
       "      <td>147.0</td>\n",
       "      <td>709.8</td>\n",
       "      <td>687.5</td>\n",
       "      <td>659.4</td>\n",
       "      <td>675.2</td>\n",
       "      <td>...</td>\n",
       "      <td>-213.9</td>\n",
       "      <td>-323.3</td>\n",
       "      <td>16.3</td>\n",
       "      <td>20.5</td>\n",
       "      <td>323.7</td>\n",
       "      <td>-141.2</td>\n",
       "      <td>-249.6</td>\n",
       "      <td>98.0</td>\n",
       "      <td>115.7</td>\n",
       "      <td>420.3</td>\n",
       "    </tr>\n",
       "    <tr>\n",
       "      <th>CT</th>\n",
       "      <td>81064</td>\n",
       "      <td>17.0</td>\n",
       "      <td>15.0</td>\n",
       "      <td>19.0</td>\n",
       "      <td>14.0</td>\n",
       "      <td>4.0</td>\n",
       "      <td>88.8</td>\n",
       "      <td>87.0</td>\n",
       "      <td>84.6</td>\n",
       "      <td>84.6</td>\n",
       "      <td>...</td>\n",
       "      <td>-34.6</td>\n",
       "      <td>-55.6</td>\n",
       "      <td>-42.9</td>\n",
       "      <td>-67.3</td>\n",
       "      <td>-63.8</td>\n",
       "      <td>-3.3</td>\n",
       "      <td>-25.1</td>\n",
       "      <td>-11.6</td>\n",
       "      <td>-30.5</td>\n",
       "      <td>-26.6</td>\n",
       "    </tr>\n",
       "    <tr>\n",
       "      <th>DC</th>\n",
       "      <td>22001</td>\n",
       "      <td>1.0</td>\n",
       "      <td>1.0</td>\n",
       "      <td>1.0</td>\n",
       "      <td>1.0</td>\n",
       "      <td>4.0</td>\n",
       "      <td>30.0</td>\n",
       "      <td>29.4</td>\n",
       "      <td>29.4</td>\n",
       "      <td>28.8</td>\n",
       "      <td>...</td>\n",
       "      <td>23.2</td>\n",
       "      <td>20.2</td>\n",
       "      <td>19.0</td>\n",
       "      <td>3.0</td>\n",
       "      <td>11.2</td>\n",
       "      <td>34.0</td>\n",
       "      <td>32.0</td>\n",
       "      <td>31.2</td>\n",
       "      <td>16.8</td>\n",
       "      <td>24.8</td>\n",
       "    </tr>\n",
       "    <tr>\n",
       "      <th>DE</th>\n",
       "      <td>40009</td>\n",
       "      <td>8.0</td>\n",
       "      <td>6.0</td>\n",
       "      <td>8.0</td>\n",
       "      <td>5.0</td>\n",
       "      <td>9.0</td>\n",
       "      <td>49.8</td>\n",
       "      <td>48.7</td>\n",
       "      <td>47.1</td>\n",
       "      <td>47.0</td>\n",
       "      <td>...</td>\n",
       "      <td>18.0</td>\n",
       "      <td>21.9</td>\n",
       "      <td>20.9</td>\n",
       "      <td>29.3</td>\n",
       "      <td>28.1</td>\n",
       "      <td>27.0</td>\n",
       "      <td>32.4</td>\n",
       "      <td>30.9</td>\n",
       "      <td>40.6</td>\n",
       "      <td>39.3</td>\n",
       "    </tr>\n",
       "    <tr>\n",
       "      <th>FL</th>\n",
       "      <td>820550</td>\n",
       "      <td>230.0</td>\n",
       "      <td>214.0</td>\n",
       "      <td>223.0</td>\n",
       "      <td>193.0</td>\n",
       "      <td>155.0</td>\n",
       "      <td>720.9</td>\n",
       "      <td>713.7</td>\n",
       "      <td>701.9</td>\n",
       "      <td>708.0</td>\n",
       "      <td>...</td>\n",
       "      <td>66.6</td>\n",
       "      <td>190.6</td>\n",
       "      <td>328.4</td>\n",
       "      <td>489.4</td>\n",
       "      <td>741.2</td>\n",
       "      <td>236.1</td>\n",
       "      <td>362.2</td>\n",
       "      <td>501.5</td>\n",
       "      <td>689.7</td>\n",
       "      <td>941.2</td>\n",
       "    </tr>\n",
       "    <tr>\n",
       "      <th>GA</th>\n",
       "      <td>2105677</td>\n",
       "      <td>738.0</td>\n",
       "      <td>708.0</td>\n",
       "      <td>714.0</td>\n",
       "      <td>682.0</td>\n",
       "      <td>270.0</td>\n",
       "      <td>1973.9</td>\n",
       "      <td>1967.2</td>\n",
       "      <td>1902.1</td>\n",
       "      <td>1882.6</td>\n",
       "      <td>...</td>\n",
       "      <td>-597.6</td>\n",
       "      <td>-779.8</td>\n",
       "      <td>-628.5</td>\n",
       "      <td>-284.9</td>\n",
       "      <td>56.1</td>\n",
       "      <td>-453.2</td>\n",
       "      <td>-579.2</td>\n",
       "      <td>-462.7</td>\n",
       "      <td>-100.9</td>\n",
       "      <td>254.6</td>\n",
       "    </tr>\n",
       "    <tr>\n",
       "      <th>HI</th>\n",
       "      <td>90025</td>\n",
       "      <td>26.0</td>\n",
       "      <td>18.0</td>\n",
       "      <td>34.0</td>\n",
       "      <td>22.0</td>\n",
       "      <td>23.0</td>\n",
       "      <td>67.7</td>\n",
       "      <td>66.4</td>\n",
       "      <td>65.2</td>\n",
       "      <td>65.7</td>\n",
       "      <td>...</td>\n",
       "      <td>-1.5</td>\n",
       "      <td>-4.8</td>\n",
       "      <td>9.1</td>\n",
       "      <td>4.0</td>\n",
       "      <td>-8.7</td>\n",
       "      <td>21.8</td>\n",
       "      <td>23.6</td>\n",
       "      <td>37.0</td>\n",
       "      <td>34.2</td>\n",
       "      <td>22.3</td>\n",
       "    </tr>\n",
       "    <tr>\n",
       "      <th>IA</th>\n",
       "      <td>1909801</td>\n",
       "      <td>592.0</td>\n",
       "      <td>583.0</td>\n",
       "      <td>654.0</td>\n",
       "      <td>647.0</td>\n",
       "      <td>133.0</td>\n",
       "      <td>1122.8</td>\n",
       "      <td>1143.6</td>\n",
       "      <td>1163.7</td>\n",
       "      <td>1181.1</td>\n",
       "      <td>...</td>\n",
       "      <td>-255.9</td>\n",
       "      <td>-439.7</td>\n",
       "      <td>-243.8</td>\n",
       "      <td>-265.3</td>\n",
       "      <td>-371.3</td>\n",
       "      <td>-173.8</td>\n",
       "      <td>-360.9</td>\n",
       "      <td>-156.9</td>\n",
       "      <td>-162.5</td>\n",
       "      <td>-268.4</td>\n",
       "    </tr>\n",
       "    <tr>\n",
       "      <th>ID</th>\n",
       "      <td>721936</td>\n",
       "      <td>250.0</td>\n",
       "      <td>249.0</td>\n",
       "      <td>266.0</td>\n",
       "      <td>258.0</td>\n",
       "      <td>81.0</td>\n",
       "      <td>593.4</td>\n",
       "      <td>586.9</td>\n",
       "      <td>592.4</td>\n",
       "      <td>574.0</td>\n",
       "      <td>...</td>\n",
       "      <td>-384.3</td>\n",
       "      <td>-435.6</td>\n",
       "      <td>-226.6</td>\n",
       "      <td>-116.3</td>\n",
       "      <td>-20.2</td>\n",
       "      <td>-353.5</td>\n",
       "      <td>-396.9</td>\n",
       "      <td>-184.6</td>\n",
       "      <td>-66.9</td>\n",
       "      <td>31.1</td>\n",
       "    </tr>\n",
       "    <tr>\n",
       "      <th>IL</th>\n",
       "      <td>1761404</td>\n",
       "      <td>481.0</td>\n",
       "      <td>469.0</td>\n",
       "      <td>518.0</td>\n",
       "      <td>478.0</td>\n",
       "      <td>146.0</td>\n",
       "      <td>1128.0</td>\n",
       "      <td>1132.9</td>\n",
       "      <td>1110.2</td>\n",
       "      <td>1124.5</td>\n",
       "      <td>...</td>\n",
       "      <td>-365.3</td>\n",
       "      <td>-608.7</td>\n",
       "      <td>-575.2</td>\n",
       "      <td>-660.9</td>\n",
       "      <td>-678.4</td>\n",
       "      <td>-296.6</td>\n",
       "      <td>-536.5</td>\n",
       "      <td>-497.9</td>\n",
       "      <td>-570.4</td>\n",
       "      <td>-585.8</td>\n",
       "    </tr>\n",
       "    <tr>\n",
       "      <th>IN</th>\n",
       "      <td>1682464</td>\n",
       "      <td>362.0</td>\n",
       "      <td>366.0</td>\n",
       "      <td>320.0</td>\n",
       "      <td>317.0</td>\n",
       "      <td>187.0</td>\n",
       "      <td>1093.3</td>\n",
       "      <td>1090.5</td>\n",
       "      <td>1095.1</td>\n",
       "      <td>1103.3</td>\n",
       "      <td>...</td>\n",
       "      <td>-239.2</td>\n",
       "      <td>-334.3</td>\n",
       "      <td>-154.8</td>\n",
       "      <td>-205.1</td>\n",
       "      <td>-280.7</td>\n",
       "      <td>-176.5</td>\n",
       "      <td>-271.1</td>\n",
       "      <td>-85.1</td>\n",
       "      <td>-124.9</td>\n",
       "      <td>-200.4</td>\n",
       "    </tr>\n",
       "    <tr>\n",
       "      <th>KS</th>\n",
       "      <td>2131025</td>\n",
       "      <td>697.0</td>\n",
       "      <td>685.0</td>\n",
       "      <td>834.0</td>\n",
       "      <td>816.0</td>\n",
       "      <td>135.0</td>\n",
       "      <td>1310.9</td>\n",
       "      <td>1300.2</td>\n",
       "      <td>1336.4</td>\n",
       "      <td>1305.9</td>\n",
       "      <td>...</td>\n",
       "      <td>-418.7</td>\n",
       "      <td>-515.3</td>\n",
       "      <td>-375.4</td>\n",
       "      <td>-780.3</td>\n",
       "      <td>-843.5</td>\n",
       "      <td>-329.2</td>\n",
       "      <td>-408.5</td>\n",
       "      <td>-274.5</td>\n",
       "      <td>-667.6</td>\n",
       "      <td>-725.8</td>\n",
       "    </tr>\n",
       "    <tr>\n",
       "      <th>KY</th>\n",
       "      <td>2555400</td>\n",
       "      <td>678.0</td>\n",
       "      <td>689.0</td>\n",
       "      <td>721.0</td>\n",
       "      <td>737.0</td>\n",
       "      <td>200.0</td>\n",
       "      <td>1441.5</td>\n",
       "      <td>1448.5</td>\n",
       "      <td>1461.7</td>\n",
       "      <td>1444.1</td>\n",
       "      <td>...</td>\n",
       "      <td>6.2</td>\n",
       "      <td>-451.2</td>\n",
       "      <td>-305.7</td>\n",
       "      <td>-229.6</td>\n",
       "      <td>-184.4</td>\n",
       "      <td>62.7</td>\n",
       "      <td>-377.6</td>\n",
       "      <td>-239.2</td>\n",
       "      <td>-155.4</td>\n",
       "      <td>-106.4</td>\n",
       "    </tr>\n",
       "    <tr>\n",
       "      <th>LA</th>\n",
       "      <td>1434096</td>\n",
       "      <td>271.0</td>\n",
       "      <td>255.0</td>\n",
       "      <td>268.0</td>\n",
       "      <td>256.0</td>\n",
       "      <td>82.0</td>\n",
       "      <td>864.5</td>\n",
       "      <td>858.6</td>\n",
       "      <td>845.4</td>\n",
       "      <td>857.0</td>\n",
       "      <td>...</td>\n",
       "      <td>-225.6</td>\n",
       "      <td>-244.4</td>\n",
       "      <td>-249.3</td>\n",
       "      <td>-259.1</td>\n",
       "      <td>-257.8</td>\n",
       "      <td>-177.2</td>\n",
       "      <td>-185.8</td>\n",
       "      <td>-194.4</td>\n",
       "      <td>-198.8</td>\n",
       "      <td>-195.4</td>\n",
       "    </tr>\n",
       "    <tr>\n",
       "      <th>MA</th>\n",
       "      <td>375196</td>\n",
       "      <td>34.0</td>\n",
       "      <td>36.0</td>\n",
       "      <td>41.0</td>\n",
       "      <td>40.0</td>\n",
       "      <td>24.0</td>\n",
       "      <td>157.8</td>\n",
       "      <td>154.6</td>\n",
       "      <td>153.9</td>\n",
       "      <td>150.9</td>\n",
       "      <td>...</td>\n",
       "      <td>-14.4</td>\n",
       "      <td>-10.9</td>\n",
       "      <td>11.3</td>\n",
       "      <td>-2.5</td>\n",
       "      <td>-48.2</td>\n",
       "      <td>45.7</td>\n",
       "      <td>51.6</td>\n",
       "      <td>76.9</td>\n",
       "      <td>72.5</td>\n",
       "      <td>26.2</td>\n",
       "    </tr>\n",
       "    <tr>\n",
       "      <th>MD</th>\n",
       "      <td>601079</td>\n",
       "      <td>63.0</td>\n",
       "      <td>57.0</td>\n",
       "      <td>52.0</td>\n",
       "      <td>48.0</td>\n",
       "      <td>62.0</td>\n",
       "      <td>283.8</td>\n",
       "      <td>280.3</td>\n",
       "      <td>278.0</td>\n",
       "      <td>274.8</td>\n",
       "      <td>...</td>\n",
       "      <td>25.3</td>\n",
       "      <td>-50.3</td>\n",
       "      <td>-26.1</td>\n",
       "      <td>-53.4</td>\n",
       "      <td>-48.9</td>\n",
       "      <td>84.9</td>\n",
       "      <td>10.4</td>\n",
       "      <td>35.3</td>\n",
       "      <td>15.4</td>\n",
       "      <td>20.8</td>\n",
       "    </tr>\n",
       "    <tr>\n",
       "      <th>ME</th>\n",
       "      <td>391256</td>\n",
       "      <td>83.0</td>\n",
       "      <td>83.0</td>\n",
       "      <td>88.0</td>\n",
       "      <td>91.0</td>\n",
       "      <td>49.0</td>\n",
       "      <td>156.5</td>\n",
       "      <td>160.0</td>\n",
       "      <td>159.9</td>\n",
       "      <td>158.3</td>\n",
       "      <td>...</td>\n",
       "      <td>-10.3</td>\n",
       "      <td>-18.8</td>\n",
       "      <td>-27.0</td>\n",
       "      <td>-18.9</td>\n",
       "      <td>-29.8</td>\n",
       "      <td>0.4</td>\n",
       "      <td>-6.0</td>\n",
       "      <td>-13.6</td>\n",
       "      <td>-3.9</td>\n",
       "      <td>-14.5</td>\n",
       "    </tr>\n",
       "    <tr>\n",
       "      <th>MI</th>\n",
       "      <td>2190889</td>\n",
       "      <td>443.0</td>\n",
       "      <td>444.0</td>\n",
       "      <td>522.0</td>\n",
       "      <td>513.0</td>\n",
       "      <td>233.0</td>\n",
       "      <td>838.4</td>\n",
       "      <td>832.1</td>\n",
       "      <td>824.5</td>\n",
       "      <td>827.1</td>\n",
       "      <td>...</td>\n",
       "      <td>-163.1</td>\n",
       "      <td>-269.9</td>\n",
       "      <td>-133.1</td>\n",
       "      <td>-73.5</td>\n",
       "      <td>-188.1</td>\n",
       "      <td>-99.4</td>\n",
       "      <td>-199.8</td>\n",
       "      <td>-59.1</td>\n",
       "      <td>11.2</td>\n",
       "      <td>-104.2</td>\n",
       "    </tr>\n",
       "    <tr>\n",
       "      <th>MN</th>\n",
       "      <td>2383569</td>\n",
       "      <td>495.0</td>\n",
       "      <td>461.0</td>\n",
       "      <td>528.0</td>\n",
       "      <td>471.0</td>\n",
       "      <td>139.0</td>\n",
       "      <td>1044.1</td>\n",
       "      <td>1037.8</td>\n",
       "      <td>1030.2</td>\n",
       "      <td>1045.1</td>\n",
       "      <td>...</td>\n",
       "      <td>-207.5</td>\n",
       "      <td>-476.0</td>\n",
       "      <td>-196.4</td>\n",
       "      <td>-291.6</td>\n",
       "      <td>-243.5</td>\n",
       "      <td>-128.9</td>\n",
       "      <td>-399.9</td>\n",
       "      <td>-112.9</td>\n",
       "      <td>-196.7</td>\n",
       "      <td>-148.8</td>\n",
       "    </tr>\n",
       "    <tr>\n",
       "      <th>MO</th>\n",
       "      <td>3377537</td>\n",
       "      <td>646.0</td>\n",
       "      <td>632.0</td>\n",
       "      <td>654.0</td>\n",
       "      <td>642.0</td>\n",
       "      <td>157.0</td>\n",
       "      <td>1371.6</td>\n",
       "      <td>1370.2</td>\n",
       "      <td>1369.7</td>\n",
       "      <td>1378.1</td>\n",
       "      <td>...</td>\n",
       "      <td>-355.1</td>\n",
       "      <td>-517.5</td>\n",
       "      <td>-304.9</td>\n",
       "      <td>-294.4</td>\n",
       "      <td>-347.9</td>\n",
       "      <td>-288.0</td>\n",
       "      <td>-430.2</td>\n",
       "      <td>-221.6</td>\n",
       "      <td>-202.9</td>\n",
       "      <td>-251.4</td>\n",
       "    </tr>\n",
       "    <tr>\n",
       "      <th>MS</th>\n",
       "      <td>2330724</td>\n",
       "      <td>484.0</td>\n",
       "      <td>479.0</td>\n",
       "      <td>526.0</td>\n",
       "      <td>500.0</td>\n",
       "      <td>95.0</td>\n",
       "      <td>1087.0</td>\n",
       "      <td>1069.5</td>\n",
       "      <td>1055.9</td>\n",
       "      <td>1046.9</td>\n",
       "      <td>...</td>\n",
       "      <td>-559.9</td>\n",
       "      <td>-460.1</td>\n",
       "      <td>-321.0</td>\n",
       "      <td>-451.6</td>\n",
       "      <td>-586.8</td>\n",
       "      <td>-529.1</td>\n",
       "      <td>-422.6</td>\n",
       "      <td>-285.3</td>\n",
       "      <td>-412.3</td>\n",
       "      <td>-546.0</td>\n",
       "    </tr>\n",
       "    <tr>\n",
       "      <th>MT</th>\n",
       "      <td>1713136</td>\n",
       "      <td>415.0</td>\n",
       "      <td>409.0</td>\n",
       "      <td>508.0</td>\n",
       "      <td>503.0</td>\n",
       "      <td>115.0</td>\n",
       "      <td>628.8</td>\n",
       "      <td>618.4</td>\n",
       "      <td>633.4</td>\n",
       "      <td>652.4</td>\n",
       "      <td>...</td>\n",
       "      <td>132.9</td>\n",
       "      <td>358.5</td>\n",
       "      <td>307.9</td>\n",
       "      <td>-31.6</td>\n",
       "      <td>-7.7</td>\n",
       "      <td>155.8</td>\n",
       "      <td>381.9</td>\n",
       "      <td>333.1</td>\n",
       "      <td>-5.4</td>\n",
       "      <td>19.2</td>\n",
       "    </tr>\n",
       "    <tr>\n",
       "      <th>NC</th>\n",
       "      <td>3747000</td>\n",
       "      <td>464.0</td>\n",
       "      <td>425.0</td>\n",
       "      <td>475.0</td>\n",
       "      <td>407.0</td>\n",
       "      <td>200.0</td>\n",
       "      <td>1120.4</td>\n",
       "      <td>1101.1</td>\n",
       "      <td>1089.3</td>\n",
       "      <td>1086.1</td>\n",
       "      <td>...</td>\n",
       "      <td>36.5</td>\n",
       "      <td>-153.5</td>\n",
       "      <td>87.0</td>\n",
       "      <td>64.8</td>\n",
       "      <td>102.6</td>\n",
       "      <td>130.5</td>\n",
       "      <td>-29.8</td>\n",
       "      <td>197.9</td>\n",
       "      <td>184.7</td>\n",
       "      <td>233.9</td>\n",
       "    </tr>\n",
       "    <tr>\n",
       "      <th>ND</th>\n",
       "      <td>2054809</td>\n",
       "      <td>417.0</td>\n",
       "      <td>408.0</td>\n",
       "      <td>465.0</td>\n",
       "      <td>462.0</td>\n",
       "      <td>76.0</td>\n",
       "      <td>626.1</td>\n",
       "      <td>647.7</td>\n",
       "      <td>696.4</td>\n",
       "      <td>711.9</td>\n",
       "      <td>...</td>\n",
       "      <td>510.3</td>\n",
       "      <td>902.6</td>\n",
       "      <td>829.1</td>\n",
       "      <td>221.2</td>\n",
       "      <td>360.7</td>\n",
       "      <td>549.5</td>\n",
       "      <td>954.9</td>\n",
       "      <td>879.6</td>\n",
       "      <td>277.4</td>\n",
       "      <td>417.0</td>\n",
       "    </tr>\n",
       "    <tr>\n",
       "      <th>NE</th>\n",
       "      <td>2922649</td>\n",
       "      <td>684.0</td>\n",
       "      <td>662.0</td>\n",
       "      <td>825.0</td>\n",
       "      <td>773.0</td>\n",
       "      <td>108.0</td>\n",
       "      <td>1088.7</td>\n",
       "      <td>1051.5</td>\n",
       "      <td>1070.6</td>\n",
       "      <td>1095.7</td>\n",
       "      <td>...</td>\n",
       "      <td>-376.5</td>\n",
       "      <td>-437.2</td>\n",
       "      <td>-438.8</td>\n",
       "      <td>-531.2</td>\n",
       "      <td>-312.9</td>\n",
       "      <td>-321.5</td>\n",
       "      <td>-376.3</td>\n",
       "      <td>-374.4</td>\n",
       "      <td>-458.7</td>\n",
       "      <td>-238.7</td>\n",
       "    </tr>\n",
       "    <tr>\n",
       "      <th>NH</th>\n",
       "      <td>363100</td>\n",
       "      <td>43.0</td>\n",
       "      <td>41.0</td>\n",
       "      <td>46.0</td>\n",
       "      <td>43.0</td>\n",
       "      <td>28.0</td>\n",
       "      <td>103.5</td>\n",
       "      <td>98.1</td>\n",
       "      <td>99.3</td>\n",
       "      <td>97.9</td>\n",
       "      <td>...</td>\n",
       "      <td>-23.3</td>\n",
       "      <td>-14.0</td>\n",
       "      <td>-16.4</td>\n",
       "      <td>13.2</td>\n",
       "      <td>-15.4</td>\n",
       "      <td>-11.4</td>\n",
       "      <td>-2.5</td>\n",
       "      <td>-4.1</td>\n",
       "      <td>27.9</td>\n",
       "      <td>-1.0</td>\n",
       "    </tr>\n",
       "    <tr>\n",
       "      <th>NJ</th>\n",
       "      <td>748441</td>\n",
       "      <td>28.0</td>\n",
       "      <td>28.0</td>\n",
       "      <td>26.0</td>\n",
       "      <td>26.0</td>\n",
       "      <td>24.0</td>\n",
       "      <td>255.2</td>\n",
       "      <td>249.7</td>\n",
       "      <td>243.7</td>\n",
       "      <td>241.7</td>\n",
       "      <td>...</td>\n",
       "      <td>-110.3</td>\n",
       "      <td>-125.3</td>\n",
       "      <td>-122.8</td>\n",
       "      <td>-127.0</td>\n",
       "      <td>-161.2</td>\n",
       "      <td>-12.8</td>\n",
       "      <td>-33.8</td>\n",
       "      <td>-24.9</td>\n",
       "      <td>-15.3</td>\n",
       "      <td>-49.7</td>\n",
       "    </tr>\n",
       "    <tr>\n",
       "      <th>NM</th>\n",
       "      <td>1190995</td>\n",
       "      <td>187.0</td>\n",
       "      <td>189.0</td>\n",
       "      <td>214.0</td>\n",
       "      <td>224.0</td>\n",
       "      <td>83.0</td>\n",
       "      <td>419.6</td>\n",
       "      <td>403.5</td>\n",
       "      <td>406.0</td>\n",
       "      <td>397.4</td>\n",
       "      <td>...</td>\n",
       "      <td>-64.6</td>\n",
       "      <td>-291.0</td>\n",
       "      <td>-284.9</td>\n",
       "      <td>-447.1</td>\n",
       "      <td>-233.5</td>\n",
       "      <td>-38.6</td>\n",
       "      <td>-253.1</td>\n",
       "      <td>-248.9</td>\n",
       "      <td>-406.3</td>\n",
       "      <td>-189.8</td>\n",
       "    </tr>\n",
       "    <tr>\n",
       "      <th>NV</th>\n",
       "      <td>576774</td>\n",
       "      <td>97.0</td>\n",
       "      <td>94.0</td>\n",
       "      <td>101.0</td>\n",
       "      <td>102.0</td>\n",
       "      <td>37.0</td>\n",
       "      <td>190.0</td>\n",
       "      <td>185.3</td>\n",
       "      <td>174.5</td>\n",
       "      <td>197.7</td>\n",
       "      <td>...</td>\n",
       "      <td>-159.0</td>\n",
       "      <td>86.4</td>\n",
       "      <td>135.7</td>\n",
       "      <td>-126.3</td>\n",
       "      <td>-29.8</td>\n",
       "      <td>-135.2</td>\n",
       "      <td>108.0</td>\n",
       "      <td>157.8</td>\n",
       "      <td>-100.7</td>\n",
       "      <td>-3.4</td>\n",
       "    </tr>\n",
       "    <tr>\n",
       "      <th>NY</th>\n",
       "      <td>2271844</td>\n",
       "      <td>196.0</td>\n",
       "      <td>190.0</td>\n",
       "      <td>198.0</td>\n",
       "      <td>184.0</td>\n",
       "      <td>130.0</td>\n",
       "      <td>677.4</td>\n",
       "      <td>671.5</td>\n",
       "      <td>670.2</td>\n",
       "      <td>658.9</td>\n",
       "      <td>...</td>\n",
       "      <td>-187.0</td>\n",
       "      <td>-305.4</td>\n",
       "      <td>-320.8</td>\n",
       "      <td>-410.8</td>\n",
       "      <td>-431.2</td>\n",
       "      <td>-44.2</td>\n",
       "      <td>-155.5</td>\n",
       "      <td>-166.5</td>\n",
       "      <td>-236.3</td>\n",
       "      <td>-254.3</td>\n",
       "    </tr>\n",
       "    <tr>\n",
       "      <th>OH</th>\n",
       "      <td>3478744</td>\n",
       "      <td>328.0</td>\n",
       "      <td>327.0</td>\n",
       "      <td>317.0</td>\n",
       "      <td>299.0</td>\n",
       "      <td>151.0</td>\n",
       "      <td>1013.9</td>\n",
       "      <td>1002.5</td>\n",
       "      <td>1025.3</td>\n",
       "      <td>1014.5</td>\n",
       "      <td>...</td>\n",
       "      <td>-225.9</td>\n",
       "      <td>-388.8</td>\n",
       "      <td>-238.2</td>\n",
       "      <td>-203.4</td>\n",
       "      <td>-266.4</td>\n",
       "      <td>-173.6</td>\n",
       "      <td>-332.3</td>\n",
       "      <td>-178.5</td>\n",
       "      <td>-135.0</td>\n",
       "      <td>-197.6</td>\n",
       "    </tr>\n",
       "    <tr>\n",
       "      <th>OK</th>\n",
       "      <td>3125929</td>\n",
       "      <td>430.0</td>\n",
       "      <td>433.0</td>\n",
       "      <td>485.0</td>\n",
       "      <td>465.0</td>\n",
       "      <td>117.0</td>\n",
       "      <td>954.5</td>\n",
       "      <td>961.9</td>\n",
       "      <td>1014.4</td>\n",
       "      <td>1024.6</td>\n",
       "      <td>...</td>\n",
       "      <td>39.9</td>\n",
       "      <td>-78.4</td>\n",
       "      <td>141.0</td>\n",
       "      <td>-105.9</td>\n",
       "      <td>-105.2</td>\n",
       "      <td>91.2</td>\n",
       "      <td>-15.1</td>\n",
       "      <td>202.1</td>\n",
       "      <td>-38.4</td>\n",
       "      <td>-34.5</td>\n",
       "    </tr>\n",
       "    <tr>\n",
       "      <th>OR</th>\n",
       "      <td>1518296</td>\n",
       "      <td>177.0</td>\n",
       "      <td>175.0</td>\n",
       "      <td>196.0</td>\n",
       "      <td>193.0</td>\n",
       "      <td>77.0</td>\n",
       "      <td>404.7</td>\n",
       "      <td>395.4</td>\n",
       "      <td>397.8</td>\n",
       "      <td>403.0</td>\n",
       "      <td>...</td>\n",
       "      <td>0.7</td>\n",
       "      <td>-12.4</td>\n",
       "      <td>-9.5</td>\n",
       "      <td>69.3</td>\n",
       "      <td>206.2</td>\n",
       "      <td>28.8</td>\n",
       "      <td>14.0</td>\n",
       "      <td>20.7</td>\n",
       "      <td>105.1</td>\n",
       "      <td>242.5</td>\n",
       "    </tr>\n",
       "    <tr>\n",
       "      <th>PA</th>\n",
       "      <td>2860489</td>\n",
       "      <td>253.0</td>\n",
       "      <td>244.0</td>\n",
       "      <td>253.0</td>\n",
       "      <td>237.0</td>\n",
       "      <td>102.0</td>\n",
       "      <td>694.1</td>\n",
       "      <td>693.8</td>\n",
       "      <td>702.1</td>\n",
       "      <td>690.5</td>\n",
       "      <td>...</td>\n",
       "      <td>-33.6</td>\n",
       "      <td>-98.0</td>\n",
       "      <td>-206.2</td>\n",
       "      <td>-178.2</td>\n",
       "      <td>-224.7</td>\n",
       "      <td>41.2</td>\n",
       "      <td>-17.3</td>\n",
       "      <td>-121.6</td>\n",
       "      <td>-79.2</td>\n",
       "      <td>-125.8</td>\n",
       "    </tr>\n",
       "    <tr>\n",
       "      <th>PR</th>\n",
       "      <td>5693983</td>\n",
       "      <td>169.0</td>\n",
       "      <td>163.0</td>\n",
       "      <td>160.0</td>\n",
       "      <td>157.0</td>\n",
       "      <td>NaN</td>\n",
       "      <td>11.1</td>\n",
       "      <td>11.0</td>\n",
       "      <td>10.5</td>\n",
       "      <td>10.0</td>\n",
       "      <td>...</td>\n",
       "      <td>0.0</td>\n",
       "      <td>0.0</td>\n",
       "      <td>0.0</td>\n",
       "      <td>0.0</td>\n",
       "      <td>0.0</td>\n",
       "      <td>-14.5</td>\n",
       "      <td>-15.0</td>\n",
       "      <td>-13.8</td>\n",
       "      <td>-18.3</td>\n",
       "      <td>-18.6</td>\n",
       "    </tr>\n",
       "    <tr>\n",
       "      <th>RI</th>\n",
       "      <td>264025</td>\n",
       "      <td>5.0</td>\n",
       "      <td>5.0</td>\n",
       "      <td>5.0</td>\n",
       "      <td>5.0</td>\n",
       "      <td>7.0</td>\n",
       "      <td>55.5</td>\n",
       "      <td>55.1</td>\n",
       "      <td>54.2</td>\n",
       "      <td>54.0</td>\n",
       "      <td>...</td>\n",
       "      <td>-36.4</td>\n",
       "      <td>-22.5</td>\n",
       "      <td>-16.7</td>\n",
       "      <td>-10.5</td>\n",
       "      <td>-13.6</td>\n",
       "      <td>-22.8</td>\n",
       "      <td>-6.3</td>\n",
       "      <td>-1.1</td>\n",
       "      <td>6.7</td>\n",
       "      <td>4.3</td>\n",
       "    </tr>\n",
       "    <tr>\n",
       "      <th>SC</th>\n",
       "      <td>2117116</td>\n",
       "      <td>188.0</td>\n",
       "      <td>167.0</td>\n",
       "      <td>178.0</td>\n",
       "      <td>162.0</td>\n",
       "      <td>100.0</td>\n",
       "      <td>543.7</td>\n",
       "      <td>547.3</td>\n",
       "      <td>530.5</td>\n",
       "      <td>535.0</td>\n",
       "      <td>...</td>\n",
       "      <td>-102.9</td>\n",
       "      <td>-54.8</td>\n",
       "      <td>27.5</td>\n",
       "      <td>125.4</td>\n",
       "      <td>89.2</td>\n",
       "      <td>-69.7</td>\n",
       "      <td>-14.5</td>\n",
       "      <td>62.4</td>\n",
       "      <td>164.3</td>\n",
       "      <td>131.1</td>\n",
       "    </tr>\n",
       "    <tr>\n",
       "      <th>SD</th>\n",
       "      <td>3086485</td>\n",
       "      <td>505.0</td>\n",
       "      <td>494.0</td>\n",
       "      <td>572.0</td>\n",
       "      <td>547.0</td>\n",
       "      <td>84.0</td>\n",
       "      <td>918.4</td>\n",
       "      <td>896.1</td>\n",
       "      <td>899.9</td>\n",
       "      <td>959.0</td>\n",
       "      <td>...</td>\n",
       "      <td>68.9</td>\n",
       "      <td>32.6</td>\n",
       "      <td>-15.3</td>\n",
       "      <td>-426.6</td>\n",
       "      <td>-348.8</td>\n",
       "      <td>127.9</td>\n",
       "      <td>96.8</td>\n",
       "      <td>49.3</td>\n",
       "      <td>-355.0</td>\n",
       "      <td>-276.1</td>\n",
       "    </tr>\n",
       "    <tr>\n",
       "      <th>TN</th>\n",
       "      <td>4521025</td>\n",
       "      <td>446.0</td>\n",
       "      <td>423.0</td>\n",
       "      <td>408.0</td>\n",
       "      <td>387.0</td>\n",
       "      <td>156.0</td>\n",
       "      <td>1051.7</td>\n",
       "      <td>1056.8</td>\n",
       "      <td>1063.2</td>\n",
       "      <td>1053.9</td>\n",
       "      <td>...</td>\n",
       "      <td>61.3</td>\n",
       "      <td>143.1</td>\n",
       "      <td>168.0</td>\n",
       "      <td>333.4</td>\n",
       "      <td>245.9</td>\n",
       "      <td>108.1</td>\n",
       "      <td>196.9</td>\n",
       "      <td>221.8</td>\n",
       "      <td>395.7</td>\n",
       "      <td>309.2</td>\n",
       "    </tr>\n",
       "    <tr>\n",
       "      <th>TX</th>\n",
       "      <td>12304516</td>\n",
       "      <td>1343.0</td>\n",
       "      <td>1317.0</td>\n",
       "      <td>1363.0</td>\n",
       "      <td>1372.0</td>\n",
       "      <td>426.0</td>\n",
       "      <td>3239.7</td>\n",
       "      <td>3202.9</td>\n",
       "      <td>3245.7</td>\n",
       "      <td>3246.1</td>\n",
       "      <td>...</td>\n",
       "      <td>-151.4</td>\n",
       "      <td>-371.8</td>\n",
       "      <td>255.5</td>\n",
       "      <td>-281.5</td>\n",
       "      <td>982.1</td>\n",
       "      <td>152.8</td>\n",
       "      <td>-81.1</td>\n",
       "      <td>569.2</td>\n",
       "      <td>75.3</td>\n",
       "      <td>1355.4</td>\n",
       "    </tr>\n",
       "    <tr>\n",
       "      <th>US</th>\n",
       "      <td>0</td>\n",
       "      <td>NaN</td>\n",
       "      <td>NaN</td>\n",
       "      <td>NaN</td>\n",
       "      <td>NaN</td>\n",
       "      <td>NaN</td>\n",
       "      <td>12.8</td>\n",
       "      <td>12.6</td>\n",
       "      <td>12.5</td>\n",
       "      <td>12.5</td>\n",
       "      <td>...</td>\n",
       "      <td>0.0</td>\n",
       "      <td>0.0</td>\n",
       "      <td>0.0</td>\n",
       "      <td>0.0</td>\n",
       "      <td>0.0</td>\n",
       "      <td>2.9</td>\n",
       "      <td>3.0</td>\n",
       "      <td>3.1</td>\n",
       "      <td>3.6</td>\n",
       "      <td>3.6</td>\n",
       "    </tr>\n",
       "    <tr>\n",
       "      <th>UT</th>\n",
       "      <td>1470841</td>\n",
       "      <td>157.0</td>\n",
       "      <td>153.0</td>\n",
       "      <td>182.0</td>\n",
       "      <td>180.0</td>\n",
       "      <td>85.0</td>\n",
       "      <td>487.7</td>\n",
       "      <td>469.4</td>\n",
       "      <td>468.9</td>\n",
       "      <td>455.7</td>\n",
       "      <td>...</td>\n",
       "      <td>-21.8</td>\n",
       "      <td>-179.2</td>\n",
       "      <td>57.0</td>\n",
       "      <td>-42.8</td>\n",
       "      <td>85.2</td>\n",
       "      <td>3.6</td>\n",
       "      <td>-152.1</td>\n",
       "      <td>86.0</td>\n",
       "      <td>-9.8</td>\n",
       "      <td>118.1</td>\n",
       "    </tr>\n",
       "    <tr>\n",
       "      <th>VA</th>\n",
       "      <td>6869111</td>\n",
       "      <td>503.0</td>\n",
       "      <td>495.0</td>\n",
       "      <td>487.0</td>\n",
       "      <td>451.0</td>\n",
       "      <td>240.0</td>\n",
       "      <td>1457.4</td>\n",
       "      <td>1455.0</td>\n",
       "      <td>1447.8</td>\n",
       "      <td>1445.5</td>\n",
       "      <td>...</td>\n",
       "      <td>-27.8</td>\n",
       "      <td>-42.3</td>\n",
       "      <td>43.4</td>\n",
       "      <td>-114.6</td>\n",
       "      <td>-80.0</td>\n",
       "      <td>190.7</td>\n",
       "      <td>208.8</td>\n",
       "      <td>281.7</td>\n",
       "      <td>149.7</td>\n",
       "      <td>190.9</td>\n",
       "    </tr>\n",
       "    <tr>\n",
       "      <th>VT</th>\n",
       "      <td>750196</td>\n",
       "      <td>83.0</td>\n",
       "      <td>83.0</td>\n",
       "      <td>87.0</td>\n",
       "      <td>87.0</td>\n",
       "      <td>48.0</td>\n",
       "      <td>144.6</td>\n",
       "      <td>141.9</td>\n",
       "      <td>139.2</td>\n",
       "      <td>139.5</td>\n",
       "      <td>...</td>\n",
       "      <td>-7.0</td>\n",
       "      <td>-46.8</td>\n",
       "      <td>-11.0</td>\n",
       "      <td>-41.7</td>\n",
       "      <td>-46.5</td>\n",
       "      <td>2.4</td>\n",
       "      <td>-36.4</td>\n",
       "      <td>1.1</td>\n",
       "      <td>-27.9</td>\n",
       "      <td>-32.6</td>\n",
       "    </tr>\n",
       "    <tr>\n",
       "      <th>WA</th>\n",
       "      <td>2121521</td>\n",
       "      <td>174.0</td>\n",
       "      <td>153.0</td>\n",
       "      <td>170.0</td>\n",
       "      <td>147.0</td>\n",
       "      <td>77.0</td>\n",
       "      <td>471.9</td>\n",
       "      <td>459.8</td>\n",
       "      <td>461.7</td>\n",
       "      <td>447.7</td>\n",
       "      <td>...</td>\n",
       "      <td>111.4</td>\n",
       "      <td>-13.7</td>\n",
       "      <td>9.9</td>\n",
       "      <td>84.0</td>\n",
       "      <td>213.3</td>\n",
       "      <td>162.9</td>\n",
       "      <td>45.5</td>\n",
       "      <td>69.6</td>\n",
       "      <td>153.9</td>\n",
       "      <td>286.3</td>\n",
       "    </tr>\n",
       "    <tr>\n",
       "      <th>WI</th>\n",
       "      <td>4020119</td>\n",
       "      <td>366.0</td>\n",
       "      <td>355.0</td>\n",
       "      <td>353.0</td>\n",
       "      <td>347.0</td>\n",
       "      <td>194.0</td>\n",
       "      <td>789.4</td>\n",
       "      <td>793.0</td>\n",
       "      <td>781.4</td>\n",
       "      <td>774.5</td>\n",
       "      <td>...</td>\n",
       "      <td>-12.0</td>\n",
       "      <td>-270.3</td>\n",
       "      <td>-67.2</td>\n",
       "      <td>-94.1</td>\n",
       "      <td>-181.5</td>\n",
       "      <td>24.1</td>\n",
       "      <td>-228.4</td>\n",
       "      <td>-20.8</td>\n",
       "      <td>-39.8</td>\n",
       "      <td>-126.7</td>\n",
       "    </tr>\n",
       "    <tr>\n",
       "      <th>WV</th>\n",
       "      <td>3027025</td>\n",
       "      <td>287.0</td>\n",
       "      <td>288.0</td>\n",
       "      <td>307.0</td>\n",
       "      <td>292.0</td>\n",
       "      <td>123.0</td>\n",
       "      <td>591.5</td>\n",
       "      <td>592.3</td>\n",
       "      <td>604.5</td>\n",
       "      <td>598.7</td>\n",
       "      <td>...</td>\n",
       "      <td>-10.4</td>\n",
       "      <td>-60.9</td>\n",
       "      <td>-131.7</td>\n",
       "      <td>-199.9</td>\n",
       "      <td>-171.2</td>\n",
       "      <td>9.3</td>\n",
       "      <td>-39.4</td>\n",
       "      <td>-111.4</td>\n",
       "      <td>-176.4</td>\n",
       "      <td>-148.0</td>\n",
       "    </tr>\n",
       "    <tr>\n",
       "      <th>WY</th>\n",
       "      <td>1344529</td>\n",
       "      <td>153.0</td>\n",
       "      <td>153.0</td>\n",
       "      <td>194.0</td>\n",
       "      <td>194.0</td>\n",
       "      <td>43.0</td>\n",
       "      <td>294.9</td>\n",
       "      <td>292.9</td>\n",
       "      <td>295.0</td>\n",
       "      <td>300.5</td>\n",
       "      <td>...</td>\n",
       "      <td>-50.8</td>\n",
       "      <td>111.2</td>\n",
       "      <td>88.0</td>\n",
       "      <td>-133.4</td>\n",
       "      <td>-65.5</td>\n",
       "      <td>-35.1</td>\n",
       "      <td>127.6</td>\n",
       "      <td>105.4</td>\n",
       "      <td>-113.0</td>\n",
       "      <td>-44.8</td>\n",
       "    </tr>\n",
       "  </tbody>\n",
       "</table>\n",
       "<p>53 rows × 36 columns</p>\n",
       "</div>"
      ],
      "text/plain": [
       "           FIPS  Rural-urban_Continuum Code_2003  \\\n",
       "State                                              \n",
       "AK        64340                            171.0   \n",
       "AL        72489                            322.0   \n",
       "AR       385625                            423.0   \n",
       "AZ        64208                             58.0   \n",
       "CA       357364                            196.0   \n",
       "CO       523983                            381.0   \n",
       "CT        81064                             17.0   \n",
       "DC        22001                              1.0   \n",
       "DE        40009                              8.0   \n",
       "FL       820550                            230.0   \n",
       "GA      2105677                            738.0   \n",
       "HI        90025                             26.0   \n",
       "IA      1909801                            592.0   \n",
       "ID       721936                            250.0   \n",
       "IL      1761404                            481.0   \n",
       "IN      1682464                            362.0   \n",
       "KS      2131025                            697.0   \n",
       "KY      2555400                            678.0   \n",
       "LA      1434096                            271.0   \n",
       "MA       375196                             34.0   \n",
       "MD       601079                             63.0   \n",
       "ME       391256                             83.0   \n",
       "MI      2190889                            443.0   \n",
       "MN      2383569                            495.0   \n",
       "MO      3377537                            646.0   \n",
       "MS      2330724                            484.0   \n",
       "MT      1713136                            415.0   \n",
       "NC      3747000                            464.0   \n",
       "ND      2054809                            417.0   \n",
       "NE      2922649                            684.0   \n",
       "NH       363100                             43.0   \n",
       "NJ       748441                             28.0   \n",
       "NM      1190995                            187.0   \n",
       "NV       576774                             97.0   \n",
       "NY      2271844                            196.0   \n",
       "OH      3478744                            328.0   \n",
       "OK      3125929                            430.0   \n",
       "OR      1518296                            177.0   \n",
       "PA      2860489                            253.0   \n",
       "PR      5693983                            169.0   \n",
       "RI       264025                              5.0   \n",
       "SC      2117116                            188.0   \n",
       "SD      3086485                            505.0   \n",
       "TN      4521025                            446.0   \n",
       "TX     12304516                           1343.0   \n",
       "US            0                              NaN   \n",
       "UT      1470841                            157.0   \n",
       "VA      6869111                            503.0   \n",
       "VT       750196                             83.0   \n",
       "WA      2121521                            174.0   \n",
       "WI      4020119                            366.0   \n",
       "WV      3027025                            287.0   \n",
       "WY      1344529                            153.0   \n",
       "\n",
       "       Rural-urban_Continuum Code_2013  Urban_Influence_Code_2003  \\\n",
       "State                                                               \n",
       "AK                               220.0                      221.0   \n",
       "AL                               311.0                      300.0   \n",
       "AR                               423.0                      450.0   \n",
       "AZ                                57.0                       58.0   \n",
       "CA                               194.0                      193.0   \n",
       "CO                               371.0                      464.0   \n",
       "CT                                15.0                       19.0   \n",
       "DC                                 1.0                        1.0   \n",
       "DE                                 6.0                        8.0   \n",
       "FL                               214.0                      223.0   \n",
       "GA                               708.0                      714.0   \n",
       "HI                                18.0                       34.0   \n",
       "IA                               583.0                      654.0   \n",
       "ID                               249.0                      266.0   \n",
       "IL                               469.0                      518.0   \n",
       "IN                               366.0                      320.0   \n",
       "KS                               685.0                      834.0   \n",
       "KY                               689.0                      721.0   \n",
       "LA                               255.0                      268.0   \n",
       "MA                                36.0                       41.0   \n",
       "MD                                57.0                       52.0   \n",
       "ME                                83.0                       88.0   \n",
       "MI                               444.0                      522.0   \n",
       "MN                               461.0                      528.0   \n",
       "MO                               632.0                      654.0   \n",
       "MS                               479.0                      526.0   \n",
       "MT                               409.0                      508.0   \n",
       "NC                               425.0                      475.0   \n",
       "ND                               408.0                      465.0   \n",
       "NE                               662.0                      825.0   \n",
       "NH                                41.0                       46.0   \n",
       "NJ                                28.0                       26.0   \n",
       "NM                               189.0                      214.0   \n",
       "NV                                94.0                      101.0   \n",
       "NY                               190.0                      198.0   \n",
       "OH                               327.0                      317.0   \n",
       "OK                               433.0                      485.0   \n",
       "OR                               175.0                      196.0   \n",
       "PA                               244.0                      253.0   \n",
       "PR                               163.0                      160.0   \n",
       "RI                                 5.0                        5.0   \n",
       "SC                               167.0                      178.0   \n",
       "SD                               494.0                      572.0   \n",
       "TN                               423.0                      408.0   \n",
       "TX                              1317.0                     1363.0   \n",
       "US                                 NaN                        NaN   \n",
       "UT                               153.0                      182.0   \n",
       "VA                               495.0                      487.0   \n",
       "VT                                83.0                       87.0   \n",
       "WA                               153.0                      170.0   \n",
       "WI                               355.0                      353.0   \n",
       "WV                               288.0                      307.0   \n",
       "WY                               153.0                      194.0   \n",
       "\n",
       "       Urban_Influence_Code_2013  Economic_typology_2015  R_birth_2011  \\\n",
       "State                                                                    \n",
       "AK                         291.0                    90.0         480.6   \n",
       "AL                         294.0                   113.0         803.5   \n",
       "AR                         440.0                   115.0         902.8   \n",
       "AZ                          54.0                    52.0         210.8   \n",
       "CA                         195.0                   140.0         723.0   \n",
       "CO                         457.0                   147.0         709.8   \n",
       "CT                          14.0                     4.0          88.8   \n",
       "DC                           1.0                     4.0          30.0   \n",
       "DE                           5.0                     9.0          49.8   \n",
       "FL                         193.0                   155.0         720.9   \n",
       "GA                         682.0                   270.0        1973.9   \n",
       "HI                          22.0                    23.0          67.7   \n",
       "IA                         647.0                   133.0        1122.8   \n",
       "ID                         258.0                    81.0         593.4   \n",
       "IL                         478.0                   146.0        1128.0   \n",
       "IN                         317.0                   187.0        1093.3   \n",
       "KS                         816.0                   135.0        1310.9   \n",
       "KY                         737.0                   200.0        1441.5   \n",
       "LA                         256.0                    82.0         864.5   \n",
       "MA                          40.0                    24.0         157.8   \n",
       "MD                          48.0                    62.0         283.8   \n",
       "ME                          91.0                    49.0         156.5   \n",
       "MI                         513.0                   233.0         838.4   \n",
       "MN                         471.0                   139.0        1044.1   \n",
       "MO                         642.0                   157.0        1371.6   \n",
       "MS                         500.0                    95.0        1087.0   \n",
       "MT                         503.0                   115.0         628.8   \n",
       "NC                         407.0                   200.0        1120.4   \n",
       "ND                         462.0                    76.0         626.1   \n",
       "NE                         773.0                   108.0        1088.7   \n",
       "NH                          43.0                    28.0         103.5   \n",
       "NJ                          26.0                    24.0         255.2   \n",
       "NM                         224.0                    83.0         419.6   \n",
       "NV                         102.0                    37.0         190.0   \n",
       "NY                         184.0                   130.0         677.4   \n",
       "OH                         299.0                   151.0        1013.9   \n",
       "OK                         465.0                   117.0         954.5   \n",
       "OR                         193.0                    77.0         404.7   \n",
       "PA                         237.0                   102.0         694.1   \n",
       "PR                         157.0                     NaN          11.1   \n",
       "RI                           5.0                     7.0          55.5   \n",
       "SC                         162.0                   100.0         543.7   \n",
       "SD                         547.0                    84.0         918.4   \n",
       "TN                         387.0                   156.0        1051.7   \n",
       "TX                        1372.0                   426.0        3239.7   \n",
       "US                           NaN                     NaN          12.8   \n",
       "UT                         180.0                    85.0         487.7   \n",
       "VA                         451.0                   240.0        1457.4   \n",
       "VT                          87.0                    48.0         144.6   \n",
       "WA                         147.0                    77.0         471.9   \n",
       "WI                         347.0                   194.0         789.4   \n",
       "WV                         292.0                   123.0         591.5   \n",
       "WY                         194.0                    43.0         294.9   \n",
       "\n",
       "       R_birth_2012  R_birth_2013  R_birth_2014       ...        \\\n",
       "State                                                 ...         \n",
       "AK            439.5         433.8         423.1       ...         \n",
       "AL            788.8         773.9         771.4       ...         \n",
       "AR            906.3         889.8         887.5       ...         \n",
       "AZ            200.7         200.5         204.2       ...         \n",
       "CA            704.5         697.5         698.1       ...         \n",
       "CO            687.5         659.4         675.2       ...         \n",
       "CT             87.0          84.6          84.6       ...         \n",
       "DC             29.4          29.4          28.8       ...         \n",
       "DE             48.7          47.1          47.0       ...         \n",
       "FL            713.7         701.9         708.0       ...         \n",
       "GA           1967.2        1902.1        1882.6       ...         \n",
       "HI             66.4          65.2          65.7       ...         \n",
       "IA           1143.6        1163.7        1181.1       ...         \n",
       "ID            586.9         592.4         574.0       ...         \n",
       "IL           1132.9        1110.2        1124.5       ...         \n",
       "IN           1090.5        1095.1        1103.3       ...         \n",
       "KS           1300.2        1336.4        1305.9       ...         \n",
       "KY           1448.5        1461.7        1444.1       ...         \n",
       "LA            858.6         845.4         857.0       ...         \n",
       "MA            154.6         153.9         150.9       ...         \n",
       "MD            280.3         278.0         274.8       ...         \n",
       "ME            160.0         159.9         158.3       ...         \n",
       "MI            832.1         824.5         827.1       ...         \n",
       "MN           1037.8        1030.2        1045.1       ...         \n",
       "MO           1370.2        1369.7        1378.1       ...         \n",
       "MS           1069.5        1055.9        1046.9       ...         \n",
       "MT            618.4         633.4         652.4       ...         \n",
       "NC           1101.1        1089.3        1086.1       ...         \n",
       "ND            647.7         696.4         711.9       ...         \n",
       "NE           1051.5        1070.6        1095.7       ...         \n",
       "NH             98.1          99.3          97.9       ...         \n",
       "NJ            249.7         243.7         241.7       ...         \n",
       "NM            403.5         406.0         397.4       ...         \n",
       "NV            185.3         174.5         197.7       ...         \n",
       "NY            671.5         670.2         658.9       ...         \n",
       "OH           1002.5        1025.3        1014.5       ...         \n",
       "OK            961.9        1014.4        1024.6       ...         \n",
       "OR            395.4         397.8         403.0       ...         \n",
       "PA            693.8         702.1         690.5       ...         \n",
       "PR             11.0          10.5          10.0       ...         \n",
       "RI             55.1          54.2          54.0       ...         \n",
       "SC            547.3         530.5         535.0       ...         \n",
       "SD            896.1         899.9         959.0       ...         \n",
       "TN           1056.8        1063.2        1053.9       ...         \n",
       "TX           3202.9        3245.7        3246.1       ...         \n",
       "US             12.6          12.5          12.5       ...         \n",
       "UT            469.4         468.9         455.7       ...         \n",
       "VA           1455.0        1447.8        1445.5       ...         \n",
       "VT            141.9         139.2         139.5       ...         \n",
       "WA            459.8         461.7         447.7       ...         \n",
       "WI            793.0         781.4         774.5       ...         \n",
       "WV            592.3         604.5         598.7       ...         \n",
       "WY            292.9         295.0         300.5       ...         \n",
       "\n",
       "       R_DOMESTIC_MIG_2011  R_DOMESTIC_MIG_2012  R_DOMESTIC_MIG_2013  \\\n",
       "State                                                                  \n",
       "AK                   -34.5               -154.4               -272.8   \n",
       "AL                  -227.2               -204.3               -145.8   \n",
       "AR                  -185.4               -371.0               -322.7   \n",
       "AZ                     7.5                -23.3                -33.0   \n",
       "CA                  -247.2               -223.7               -202.1   \n",
       "CO                  -213.9               -323.3                 16.3   \n",
       "CT                   -34.6                -55.6                -42.9   \n",
       "DC                    23.2                 20.2                 19.0   \n",
       "DE                    18.0                 21.9                 20.9   \n",
       "FL                    66.6                190.6                328.4   \n",
       "GA                  -597.6               -779.8               -628.5   \n",
       "HI                    -1.5                 -4.8                  9.1   \n",
       "IA                  -255.9               -439.7               -243.8   \n",
       "ID                  -384.3               -435.6               -226.6   \n",
       "IL                  -365.3               -608.7               -575.2   \n",
       "IN                  -239.2               -334.3               -154.8   \n",
       "KS                  -418.7               -515.3               -375.4   \n",
       "KY                     6.2               -451.2               -305.7   \n",
       "LA                  -225.6               -244.4               -249.3   \n",
       "MA                   -14.4                -10.9                 11.3   \n",
       "MD                    25.3                -50.3                -26.1   \n",
       "ME                   -10.3                -18.8                -27.0   \n",
       "MI                  -163.1               -269.9               -133.1   \n",
       "MN                  -207.5               -476.0               -196.4   \n",
       "MO                  -355.1               -517.5               -304.9   \n",
       "MS                  -559.9               -460.1               -321.0   \n",
       "MT                   132.9                358.5                307.9   \n",
       "NC                    36.5               -153.5                 87.0   \n",
       "ND                   510.3                902.6                829.1   \n",
       "NE                  -376.5               -437.2               -438.8   \n",
       "NH                   -23.3                -14.0                -16.4   \n",
       "NJ                  -110.3               -125.3               -122.8   \n",
       "NM                   -64.6               -291.0               -284.9   \n",
       "NV                  -159.0                 86.4                135.7   \n",
       "NY                  -187.0               -305.4               -320.8   \n",
       "OH                  -225.9               -388.8               -238.2   \n",
       "OK                    39.9                -78.4                141.0   \n",
       "OR                     0.7                -12.4                 -9.5   \n",
       "PA                   -33.6                -98.0               -206.2   \n",
       "PR                     0.0                  0.0                  0.0   \n",
       "RI                   -36.4                -22.5                -16.7   \n",
       "SC                  -102.9                -54.8                 27.5   \n",
       "SD                    68.9                 32.6                -15.3   \n",
       "TN                    61.3                143.1                168.0   \n",
       "TX                  -151.4               -371.8                255.5   \n",
       "US                     0.0                  0.0                  0.0   \n",
       "UT                   -21.8               -179.2                 57.0   \n",
       "VA                   -27.8                -42.3                 43.4   \n",
       "VT                    -7.0                -46.8                -11.0   \n",
       "WA                   111.4                -13.7                  9.9   \n",
       "WI                   -12.0               -270.3                -67.2   \n",
       "WV                   -10.4                -60.9               -131.7   \n",
       "WY                   -50.8                111.2                 88.0   \n",
       "\n",
       "       R_DOMESTIC_MIG_2014  R_DOMESTIC_MIG_2015  R_NET_MIG_2011  \\\n",
       "State                                                             \n",
       "AK                  -536.7               -389.9            64.2   \n",
       "AL                  -114.2               -131.8          -185.1   \n",
       "AR                  -416.8               -330.0          -152.9   \n",
       "AZ                    36.4                 -0.9            28.4   \n",
       "CA                  -118.9                -45.7          -123.4   \n",
       "CO                    20.5                323.7          -141.2   \n",
       "CT                   -67.3                -63.8            -3.3   \n",
       "DC                     3.0                 11.2            34.0   \n",
       "DE                    29.3                 28.1            27.0   \n",
       "FL                   489.4                741.2           236.1   \n",
       "GA                  -284.9                 56.1          -453.2   \n",
       "HI                     4.0                 -8.7            21.8   \n",
       "IA                  -265.3               -371.3          -173.8   \n",
       "ID                  -116.3                -20.2          -353.5   \n",
       "IL                  -660.9               -678.4          -296.6   \n",
       "IN                  -205.1               -280.7          -176.5   \n",
       "KS                  -780.3               -843.5          -329.2   \n",
       "KY                  -229.6               -184.4            62.7   \n",
       "LA                  -259.1               -257.8          -177.2   \n",
       "MA                    -2.5                -48.2            45.7   \n",
       "MD                   -53.4                -48.9            84.9   \n",
       "ME                   -18.9                -29.8             0.4   \n",
       "MI                   -73.5               -188.1           -99.4   \n",
       "MN                  -291.6               -243.5          -128.9   \n",
       "MO                  -294.4               -347.9          -288.0   \n",
       "MS                  -451.6               -586.8          -529.1   \n",
       "MT                   -31.6                 -7.7           155.8   \n",
       "NC                    64.8                102.6           130.5   \n",
       "ND                   221.2                360.7           549.5   \n",
       "NE                  -531.2               -312.9          -321.5   \n",
       "NH                    13.2                -15.4           -11.4   \n",
       "NJ                  -127.0               -161.2           -12.8   \n",
       "NM                  -447.1               -233.5           -38.6   \n",
       "NV                  -126.3                -29.8          -135.2   \n",
       "NY                  -410.8               -431.2           -44.2   \n",
       "OH                  -203.4               -266.4          -173.6   \n",
       "OK                  -105.9               -105.2            91.2   \n",
       "OR                    69.3                206.2            28.8   \n",
       "PA                  -178.2               -224.7            41.2   \n",
       "PR                     0.0                  0.0           -14.5   \n",
       "RI                   -10.5                -13.6           -22.8   \n",
       "SC                   125.4                 89.2           -69.7   \n",
       "SD                  -426.6               -348.8           127.9   \n",
       "TN                   333.4                245.9           108.1   \n",
       "TX                  -281.5                982.1           152.8   \n",
       "US                     0.0                  0.0             2.9   \n",
       "UT                   -42.8                 85.2             3.6   \n",
       "VA                  -114.6                -80.0           190.7   \n",
       "VT                   -41.7                -46.5             2.4   \n",
       "WA                    84.0                213.3           162.9   \n",
       "WI                   -94.1               -181.5            24.1   \n",
       "WV                  -199.9               -171.2             9.3   \n",
       "WY                  -133.4                -65.5           -35.1   \n",
       "\n",
       "       R_NET_MIG_2012  R_NET_MIG_2013  R_NET_MIG_2014  R_NET_MIG_2015  \n",
       "State                                                                  \n",
       "AK              -46.2          -168.7          -422.3          -271.6  \n",
       "AL             -156.1           -99.5           -61.6           -76.7  \n",
       "AR             -338.0          -286.1          -373.5          -285.8  \n",
       "AZ               -0.4            -9.6            62.9            26.3  \n",
       "CA             -100.4           -71.8            31.1           107.2  \n",
       "CO             -249.6            98.0           115.7           420.3  \n",
       "CT              -25.1           -11.6           -30.5           -26.6  \n",
       "DC               32.0            31.2            16.8            24.8  \n",
       "DE               32.4            30.9            40.6            39.3  \n",
       "FL              362.2           501.5           689.7           941.2  \n",
       "GA             -579.2          -462.7          -100.9           254.6  \n",
       "HI               23.6            37.0            34.2            22.3  \n",
       "IA             -360.9          -156.9          -162.5          -268.4  \n",
       "ID             -396.9          -184.6           -66.9            31.1  \n",
       "IL             -536.5          -497.9          -570.4          -585.8  \n",
       "IN             -271.1           -85.1          -124.9          -200.4  \n",
       "KS             -408.5          -274.5          -667.6          -725.8  \n",
       "KY             -377.6          -239.2          -155.4          -106.4  \n",
       "LA             -185.8          -194.4          -198.8          -195.4  \n",
       "MA               51.6            76.9            72.5            26.2  \n",
       "MD               10.4            35.3            15.4            20.8  \n",
       "ME               -6.0           -13.6            -3.9           -14.5  \n",
       "MI             -199.8           -59.1            11.2          -104.2  \n",
       "MN             -399.9          -112.9          -196.7          -148.8  \n",
       "MO             -430.2          -221.6          -202.9          -251.4  \n",
       "MS             -422.6          -285.3          -412.3          -546.0  \n",
       "MT              381.9           333.1            -5.4            19.2  \n",
       "NC              -29.8           197.9           184.7           233.9  \n",
       "ND              954.9           879.6           277.4           417.0  \n",
       "NE             -376.3          -374.4          -458.7          -238.7  \n",
       "NH               -2.5            -4.1            27.9            -1.0  \n",
       "NJ              -33.8           -24.9           -15.3           -49.7  \n",
       "NM             -253.1          -248.9          -406.3          -189.8  \n",
       "NV              108.0           157.8          -100.7            -3.4  \n",
       "NY             -155.5          -166.5          -236.3          -254.3  \n",
       "OH             -332.3          -178.5          -135.0          -197.6  \n",
       "OK              -15.1           202.1           -38.4           -34.5  \n",
       "OR               14.0            20.7           105.1           242.5  \n",
       "PA              -17.3          -121.6           -79.2          -125.8  \n",
       "PR              -15.0           -13.8           -18.3           -18.6  \n",
       "RI               -6.3            -1.1             6.7             4.3  \n",
       "SC              -14.5            62.4           164.3           131.1  \n",
       "SD               96.8            49.3          -355.0          -276.1  \n",
       "TN              196.9           221.8           395.7           309.2  \n",
       "TX              -81.1           569.2            75.3          1355.4  \n",
       "US                3.0             3.1             3.6             3.6  \n",
       "UT             -152.1            86.0            -9.8           118.1  \n",
       "VA              208.8           281.7           149.7           190.9  \n",
       "VT              -36.4             1.1           -27.9           -32.6  \n",
       "WA               45.5            69.6           153.9           286.3  \n",
       "WI             -228.4           -20.8           -39.8          -126.7  \n",
       "WV              -39.4          -111.4          -176.4          -148.0  \n",
       "WY              127.6           105.4          -113.0           -44.8  \n",
       "\n",
       "[53 rows x 36 columns]"
      ]
     },
     "execution_count": 337,
     "metadata": {},
     "output_type": "execute_result"
    }
   ],
   "source": [
    "data_pop.groupby('State').sum()"
   ]
  },
  {
   "cell_type": "code",
   "execution_count": 332,
   "metadata": {
    "collapsed": false
   },
   "outputs": [
    {
     "ename": "AttributeError",
     "evalue": "'DataFrame' object has no attribute 'str'",
     "output_type": "error",
     "traceback": [
      "\u001b[0;31m---------------------------------------------------------------------------\u001b[0m",
      "\u001b[0;31mAttributeError\u001b[0m                            Traceback (most recent call last)",
      "\u001b[0;32m<ipython-input-332-efae16966b27>\u001b[0m in \u001b[0;36m<module>\u001b[0;34m()\u001b[0m\n\u001b[0;32m----> 1\u001b[0;31m \u001b[0mdata_pop\u001b[0m\u001b[0;34m.\u001b[0m\u001b[0mstr\u001b[0m\u001b[0;34m.\u001b[0m\u001b[0mreplace\u001b[0m\u001b[0;34m(\u001b[0m\u001b[0;34m'County'\u001b[0m\u001b[0;34m,\u001b[0m\u001b[0;34m''\u001b[0m\u001b[0;34m)\u001b[0m\u001b[0;34m\u001b[0m\u001b[0m\n\u001b[0m",
      "\u001b[0;32m/Users/Xianbo/anaconda/lib/python2.7/site-packages/pandas/core/generic.pyc\u001b[0m in \u001b[0;36m__getattr__\u001b[0;34m(self, name)\u001b[0m\n\u001b[1;32m   2670\u001b[0m             \u001b[0;32mif\u001b[0m \u001b[0mname\u001b[0m \u001b[0;32min\u001b[0m \u001b[0mself\u001b[0m\u001b[0;34m.\u001b[0m\u001b[0m_info_axis\u001b[0m\u001b[0;34m:\u001b[0m\u001b[0;34m\u001b[0m\u001b[0m\n\u001b[1;32m   2671\u001b[0m                 \u001b[0;32mreturn\u001b[0m \u001b[0mself\u001b[0m\u001b[0;34m[\u001b[0m\u001b[0mname\u001b[0m\u001b[0;34m]\u001b[0m\u001b[0;34m\u001b[0m\u001b[0m\n\u001b[0;32m-> 2672\u001b[0;31m             \u001b[0;32mreturn\u001b[0m \u001b[0mobject\u001b[0m\u001b[0;34m.\u001b[0m\u001b[0m__getattribute__\u001b[0m\u001b[0;34m(\u001b[0m\u001b[0mself\u001b[0m\u001b[0;34m,\u001b[0m \u001b[0mname\u001b[0m\u001b[0;34m)\u001b[0m\u001b[0;34m\u001b[0m\u001b[0m\n\u001b[0m\u001b[1;32m   2673\u001b[0m \u001b[0;34m\u001b[0m\u001b[0m\n\u001b[1;32m   2674\u001b[0m     \u001b[0;32mdef\u001b[0m \u001b[0m__setattr__\u001b[0m\u001b[0;34m(\u001b[0m\u001b[0mself\u001b[0m\u001b[0;34m,\u001b[0m \u001b[0mname\u001b[0m\u001b[0;34m,\u001b[0m \u001b[0mvalue\u001b[0m\u001b[0;34m)\u001b[0m\u001b[0;34m:\u001b[0m\u001b[0;34m\u001b[0m\u001b[0m\n",
      "\u001b[0;31mAttributeError\u001b[0m: 'DataFrame' object has no attribute 'str'"
     ]
    }
   ],
   "source": [
    "data_pop.str.replace('County','')"
   ]
  },
  {
   "cell_type": "code",
   "execution_count": 118,
   "metadata": {
    "collapsed": false
   },
   "outputs": [
    {
     "data": {
      "text/html": [
       "<div>\n",
       "<table border=\"1\" class=\"dataframe\">\n",
       "  <thead>\n",
       "    <tr style=\"text-align: right;\">\n",
       "      <th></th>\n",
       "      <th>Manchester</th>\n",
       "    </tr>\n",
       "  </thead>\n",
       "  <tbody>\n",
       "    <tr>\n",
       "      <th>0</th>\n",
       "      <td>24,700</td>\n",
       "    </tr>\n",
       "    <tr>\n",
       "      <th>1</th>\n",
       "      <td>21,414</td>\n",
       "    </tr>\n",
       "    <tr>\n",
       "      <th>2</th>\n",
       "      <td>100%</td>\n",
       "    </tr>\n",
       "    <tr>\n",
       "      <th>3</th>\n",
       "      <td>Nashua</td>\n",
       "    </tr>\n",
       "    <tr>\n",
       "      <th>4</th>\n",
       "      <td>22,690</td>\n",
       "    </tr>\n",
       "    <tr>\n",
       "      <th>5</th>\n",
       "      <td>17,476</td>\n",
       "    </tr>\n",
       "    <tr>\n",
       "      <th>6</th>\n",
       "      <td>100%</td>\n",
       "    </tr>\n",
       "    <tr>\n",
       "      <th>7</th>\n",
       "      <td>Concord</td>\n",
       "    </tr>\n",
       "    <tr>\n",
       "      <th>8</th>\n",
       "      <td>12,884</td>\n",
       "    </tr>\n",
       "    <tr>\n",
       "      <th>9</th>\n",
       "      <td>7,776</td>\n",
       "    </tr>\n",
       "  </tbody>\n",
       "</table>\n",
       "</div>"
      ],
      "text/plain": [
       "  Manchester\n",
       "0     24,700\n",
       "1     21,414\n",
       "2       100%\n",
       "3     Nashua\n",
       "4     22,690\n",
       "5     17,476\n",
       "6       100%\n",
       "7    Concord\n",
       "8     12,884\n",
       "9      7,776"
      ]
     },
     "execution_count": 118,
     "metadata": {},
     "output_type": "execute_result"
    }
   ],
   "source": [
    "data_NH = pd.read_csv('New Hampshire_.csv')\n",
    "data_NH.head(10)"
   ]
  },
  {
   "cell_type": "code",
   "execution_count": 132,
   "metadata": {
    "collapsed": true
   },
   "outputs": [],
   "source": [
    "data_new = pd.read_csv('nyt-election2016-county-result.csv')"
   ]
  },
  {
   "cell_type": "code",
   "execution_count": null,
   "metadata": {
    "collapsed": true
   },
   "outputs": [],
   "source": [
    "County_name1 = 'Hillsborough County'"
   ]
  },
  {
   "cell_type": "code",
   "execution_count": 125,
   "metadata": {
    "collapsed": false
   },
   "outputs": [
    {
     "data": {
      "text/plain": [
       "str"
      ]
     },
     "execution_count": 125,
     "metadata": {},
     "output_type": "execute_result"
    }
   ],
   "source": [
    "data_NH.columns[0]"
   ]
  },
  {
   "cell_type": "code",
   "execution_count": null,
   "metadata": {
    "collapsed": true
   },
   "outputs": [],
   "source": [
    "data_test= PopulationEstimates"
   ]
  },
  {
   "cell_type": "code",
   "execution_count": 131,
   "metadata": {
    "collapsed": false
   },
   "outputs": [
    {
     "data": {
      "text/plain": [
       "315"
      ]
     },
     "execution_count": 131,
     "metadata": {},
     "output_type": "execute_result"
    }
   ],
   "source": [
    "for i in range (0, len(data_NH)/3):\n",
    "    "
   ]
  },
  {
   "cell_type": "code",
   "execution_count": 315,
   "metadata": {
    "collapsed": false
   },
   "outputs": [
    {
     "data": {
      "text/plain": [
       "(37,)"
      ]
     },
     "execution_count": 315,
     "metadata": {},
     "output_type": "execute_result"
    }
   ],
   "source": [
    "data.state_abbreviation.unique().shape"
   ]
  },
  {
   "cell_type": "code",
   "execution_count": 311,
   "metadata": {
    "collapsed": false
   },
   "outputs": [],
   "source": [
    "MA_CT = pd.read_csv('MA_CT.csv')\n",
    "CT_CT = pd.read_csv('CT_CT.csv')\n",
    "NH_CT = pd.read_csv('NH_CT.csv')\n",
    "#RI_CT = pd.read_csv('RI_CT.csv')\n",
    "#VI_CT = pd.read_csv('VT_CT.csv')\n",
    "MA_town = pd.read_csv('Massachusetts_.csv')\n",
    "CT_town = pd.read_csv('Connecticut_.csv')\n",
    "NH_town = pd.read_csv('New Hampshire_.csv')\n",
    "#RI_town = pd.read_csv('R.csv')\n",
    "#VT_town = pd.read_csv('Virginia.csv')\n"
   ]
  },
  {
   "cell_type": "code",
   "execution_count": 201,
   "metadata": {
    "collapsed": true
   },
   "outputs": [],
   "source": [
    "name_MA = []\n",
    "name_MA.append(MA_town.columns[0])\n",
    "for i in range (0, len(MA_town)/4):\n",
    "    name_MA.append(MA_town[MA_town.columns[0]][4*i + 3])\n",
    "clinton_MA = []\n",
    "for i in range (0, len(MA_town)/4 + 1):\n",
    "    clinton_MA.append(MA_town[MA_town.columns[0]][4*i])\n",
    "trump_MA = []\n",
    "for i in range (0, len(MA_town)/4 + 1 ):\n",
    "    trump_MA.append(MA_town[MA_town.columns[0]][4*i + 1])\n",
    "df_MA = pd.DataFrame(name_MA, columns = ['name'])\n",
    "df_MA['clinton'] = clinton_MA\n",
    "df_MA['trump'] = trump_MA\n",
    "df_MA = df_MA[['name', 'clinton', 'trump']]\n",
    "df_MA2 = pd.merge(df_MA, MA_CT, how = 'inner', left_on = 'name', right_on = 'Town', sort = 1)\n",
    "df_MA2 = df_MA2.sort(columns = 'County')\n",
    "df_MA2['clinton'] = df_MA2['clinton'].str.replace(',','').astype(int)\n",
    "df_MA2['trump'] = df_MA2['trump'].str.replace(',','').astype(int)\n",
    "df_MA3 = df_MA2.groupby('County').sum()"
   ]
  },
  {
   "cell_type": "code",
   "execution_count": 305,
   "metadata": {
    "collapsed": false,
    "scrolled": true
   },
   "outputs": [],
   "source": [
    "def mergeCT (MA_CT, MA_town):\n",
    "    name_MA = []\n",
    "    name_MA.append(MA_town.columns[0])\n",
    "    for i in range (0, len(MA_town)/4):\n",
    "        name_MA.append(MA_town[MA_town.columns[0]][4*i + 3])\n",
    "    clinton_MA = []\n",
    "    for i in range (0, len(MA_town)/4 + 1):\n",
    "        clinton_MA.append(MA_town[MA_town.columns[0]][4*i])\n",
    "    trump_MA = []\n",
    "    for i in range (0, len(MA_town)/4 + 1 ):\n",
    "        trump_MA.append(MA_town[MA_town.columns[0]][4*i + 1])\n",
    "    df_MA = pd.DataFrame(name_MA, columns = ['name'])\n",
    "    df_MA['clinton'] = clinton_MA\n",
    "    df_MA['trump'] = trump_MA\n",
    "    df_MA = df_MA[['name', 'clinton', 'trump']]\n",
    "    df_MA2 = pd.merge(df_MA, MA_CT, how = 'inner', left_on = 'name', right_on = 'Town', sort = 1)\n",
    "    df_MA2 = df_MA2.sort(columns = 'County')\n",
    "    df_MA2['clinton'] = df_MA2['clinton'].str.replace(',','').astype(int)\n",
    "    df_MA2['trump'] = df_MA2['trump'].str.replace(',','').astype(int)\n",
    "    df_MA3 = df_MA2.groupby('County').sum()\n",
    "    return df_MA3"
   ]
  },
  {
   "cell_type": "code",
   "execution_count": 309,
   "metadata": {
    "collapsed": false
   },
   "outputs": [
    {
     "data": {
      "text/html": [
       "<div>\n",
       "<table border=\"1\" class=\"dataframe\">\n",
       "  <thead>\n",
       "    <tr style=\"text-align: right;\">\n",
       "      <th></th>\n",
       "      <th>clinton</th>\n",
       "      <th>trump</th>\n",
       "    </tr>\n",
       "    <tr>\n",
       "      <th>County</th>\n",
       "      <th></th>\n",
       "      <th></th>\n",
       "    </tr>\n",
       "  </thead>\n",
       "  <tbody>\n",
       "    <tr>\n",
       "      <th>Barnstable</th>\n",
       "      <td>71632</td>\n",
       "      <td>53842</td>\n",
       "    </tr>\n",
       "    <tr>\n",
       "      <th>Berkshire</th>\n",
       "      <td>43540</td>\n",
       "      <td>16799</td>\n",
       "    </tr>\n",
       "    <tr>\n",
       "      <th>Bristol</th>\n",
       "      <td>127619</td>\n",
       "      <td>104775</td>\n",
       "    </tr>\n",
       "    <tr>\n",
       "      <th>Dukes</th>\n",
       "      <td>8338</td>\n",
       "      <td>2474</td>\n",
       "    </tr>\n",
       "    <tr>\n",
       "      <th>Essex</th>\n",
       "      <td>217783</td>\n",
       "      <td>134452</td>\n",
       "    </tr>\n",
       "    <tr>\n",
       "      <th>Franklin</th>\n",
       "      <td>24369</td>\n",
       "      <td>10327</td>\n",
       "    </tr>\n",
       "    <tr>\n",
       "      <th>Hampden</th>\n",
       "      <td>110313</td>\n",
       "      <td>78230</td>\n",
       "    </tr>\n",
       "    <tr>\n",
       "      <th>Hampshire</th>\n",
       "      <td>54572</td>\n",
       "      <td>22089</td>\n",
       "    </tr>\n",
       "    <tr>\n",
       "      <th>Middlesex</th>\n",
       "      <td>508919</td>\n",
       "      <td>216163</td>\n",
       "    </tr>\n",
       "    <tr>\n",
       "      <th>Nantucket</th>\n",
       "      <td>4144</td>\n",
       "      <td>1892</td>\n",
       "    </tr>\n",
       "    <tr>\n",
       "      <th>Norfolk</th>\n",
       "      <td>219129</td>\n",
       "      <td>119171</td>\n",
       "    </tr>\n",
       "    <tr>\n",
       "      <th>Plymouth</th>\n",
       "      <td>133828</td>\n",
       "      <td>114722</td>\n",
       "    </tr>\n",
       "    <tr>\n",
       "      <th>Suffolk</th>\n",
       "      <td>241212</td>\n",
       "      <td>50042</td>\n",
       "    </tr>\n",
       "    <tr>\n",
       "      <th>Worcester</th>\n",
       "      <td>197126</td>\n",
       "      <td>157138</td>\n",
       "    </tr>\n",
       "  </tbody>\n",
       "</table>\n",
       "</div>"
      ],
      "text/plain": [
       "            clinton   trump\n",
       "County                     \n",
       "Barnstable    71632   53842\n",
       "Berkshire     43540   16799\n",
       "Bristol      127619  104775\n",
       "Dukes          8338    2474\n",
       "Essex        217783  134452\n",
       "Franklin      24369   10327\n",
       "Hampden      110313   78230\n",
       "Hampshire     54572   22089\n",
       "Middlesex    508919  216163\n",
       "Nantucket      4144    1892\n",
       "Norfolk      219129  119171\n",
       "Plymouth     133828  114722\n",
       "Suffolk      241212   50042\n",
       "Worcester    197126  157138"
      ]
     },
     "execution_count": 309,
     "metadata": {},
     "output_type": "execute_result"
    }
   ],
   "source": [
    "df_MA3"
   ]
  },
  {
   "cell_type": "code",
   "execution_count": 302,
   "metadata": {
    "collapsed": false
   },
   "outputs": [
    {
     "data": {
      "text/plain": [
       "14"
      ]
     },
     "execution_count": 302,
     "metadata": {},
     "output_type": "execute_result"
    }
   ],
   "source": [
    "len(df_MA3)"
   ]
  },
  {
   "cell_type": "code",
   "execution_count": 226,
   "metadata": {
    "collapsed": false
   },
   "outputs": [
    {
     "data": {
      "text/plain": [
       "False"
      ]
     },
     "execution_count": 226,
     "metadata": {},
     "output_type": "execute_result"
    }
   ],
   "source": [
    "df_MA.name[1] in MA_CT.Town"
   ]
  },
  {
   "cell_type": "code",
   "execution_count": 228,
   "metadata": {
    "collapsed": false,
    "scrolled": true
   },
   "outputs": [],
   "source": [
    "df_MA['Town'] = 0\n",
    "for i in range(0, len(df_MA)):\n",
    "    if df_MA.name[i] in MA_CT.Town:\n",
    "        df_MA['Town'][i] = 1"
   ]
  },
  {
   "cell_type": "code",
   "execution_count": 222,
   "metadata": {
    "collapsed": false
   },
   "outputs": [
    {
     "name": "stderr",
     "output_type": "stream",
     "text": [
      "/Users/Xianbo/anaconda/lib/python2.7/site-packages/ipykernel/__main__.py:1: SettingWithCopyWarning: \n",
      "A value is trying to be set on a copy of a slice from a DataFrame\n",
      "\n",
      "See the caveats in the documentation: http://pandas.pydata.org/pandas-docs/stable/indexing.html#indexing-view-versus-copy\n",
      "  if __name__ == '__main__':\n"
     ]
    }
   ],
   "source": [
    "df_MA['Town'][1] = 1"
   ]
  },
  {
   "cell_type": "code",
   "execution_count": 216,
   "metadata": {
    "collapsed": false
   },
   "outputs": [
    {
     "data": {
      "text/plain": [
       "350"
      ]
     },
     "execution_count": 216,
     "metadata": {},
     "output_type": "execute_result"
    }
   ],
   "source": [
    "df_MA['Town'].sum()"
   ]
  },
  {
   "cell_type": "code",
   "execution_count": null,
   "metadata": {
    "collapsed": true
   },
   "outputs": [],
   "source": [
    "\n",
    "\n",
    "NH CT RI  MA VT"
   ]
  },
  {
   "cell_type": "code",
   "execution_count": 24,
   "metadata": {
    "collapsed": false
   },
   "outputs": [
    {
     "data": {
      "text/plain": [
       "258306890"
      ]
     },
     "execution_count": 24,
     "metadata": {},
     "output_type": "execute_result"
    }
   ],
   "source": [
    "sum(data.Population)"
   ]
  },
  {
   "cell_type": "code",
   "execution_count": 25,
   "metadata": {
    "collapsed": false
   },
   "outputs": [
    {
     "data": {
      "text/plain": [
       "60099356.06500008"
      ]
     },
     "execution_count": 25,
     "metadata": {},
     "output_type": "execute_result"
    }
   ],
   "source": [
    "sum(data.Population18*data.Population/100)"
   ]
  },
  {
   "cell_type": "code",
   "execution_count": 26,
   "metadata": {
    "collapsed": false
   },
   "outputs": [],
   "source": [
    "data['TElectorate']=data.Population*(1-data.Population18/100)\n",
    "data['TFemale']=data.TElectorate*data.Female/100\n",
    "data['TSeniors']=data.TElectorate*data.Population65/100\n",
    "data['TWhite']=data.TElectorate*data.WhiteNH/100\n",
    "data['TBlack']=data.TElectorate*data.Black/100\n",
    "data['TLatino']=data.TElectorate*data.Latino/100\n",
    "data['TAsian']=data.TElectorate*data.Asian/100\n",
    "data['TIncome']=data.Population*data.Income/100\n",
    "data['TBachelor']=data.Population*data.Bachelor/100\n",
    "data['TArea']=data.LND110210"
   ]
  },
  {
   "cell_type": "code",
   "execution_count": 104,
   "metadata": {
    "collapsed": false
   },
   "outputs": [],
   "source": [
    "#my code\n",
    "data['density'] = data['Population'] / data['TArea']"
   ]
  },
  {
   "cell_type": "code",
   "execution_count": 105,
   "metadata": {
    "collapsed": false
   },
   "outputs": [
    {
     "data": {
      "text/plain": [
       "fips\n",
       "1001     93.188547\n",
       "1003    125.873391\n",
       "1005     30.384911\n",
       "1007     36.149571\n",
       "1009     89.517355\n",
       "Name: density, dtype: float64"
      ]
     },
     "execution_count": 105,
     "metadata": {},
     "output_type": "execute_result"
    }
   ],
   "source": [
    "data['density'].head()"
   ]
  },
  {
   "cell_type": "code",
   "execution_count": 114,
   "metadata": {
    "collapsed": false
   },
   "outputs": [
    {
     "name": "stderr",
     "output_type": "stream",
     "text": [
      "/Users/Xianbo/anaconda/lib/python2.7/site-packages/ipykernel/__main__.py:1: FutureWarning: sort(columns=....) is deprecated, use sort_values(by=.....)\n",
      "  if __name__ == '__main__':\n"
     ]
    },
    {
     "data": {
      "text/plain": [
       "fips\n",
       "48301        0.128564\n",
       "48261        0.274286\n",
       "30033        0.279978\n",
       "48269        0.287637\n",
       "30069        0.293074\n",
       "35021        0.321345\n",
       "30011        0.349921\n",
       "48443        0.393125\n",
       "46063        0.467923\n",
       "16033        0.491444\n",
       "35003        0.513599\n",
       "30075        0.540745\n",
       "31117        0.579757\n",
       "48109        0.594314\n",
       "38087        0.629671\n",
       "31165        0.630461\n",
       "31005        0.633248\n",
       "30055        0.640897\n",
       "30079        0.661009\n",
       "48229        0.702475\n",
       "41025        0.703235\n",
       "8053         0.703513\n",
       "48311        0.706494\n",
       "30103        0.708001\n",
       "31009        0.708990\n",
       "30037        0.724897\n",
       "48033        0.726511\n",
       "30059        0.774695\n",
       "38007        0.784263\n",
       "8061         0.793090\n",
       "             ...     \n",
       "34023     2707.251303\n",
       "51630     2715.517241\n",
       "39035     2755.589580\n",
       "34031     2756.682377\n",
       "17043     2847.963359\n",
       "51740     2853.016345\n",
       "26163     2883.289766\n",
       "48113     2890.733174\n",
       "51678     2924.400000\n",
       "51840     2984.073673\n",
       "51660     3012.514351\n",
       "12103     3426.216216\n",
       "27123     3499.474410\n",
       "6059      3978.793782\n",
       "34003     4006.574825\n",
       "8031      4338.967320\n",
       "51540     4452.441406\n",
       "51710     4534.885440\n",
       "36059     4771.800365\n",
       "34039     5375.646510\n",
       "17031     5549.867242\n",
       "51685     5997.628458\n",
       "34013     6304.753981\n",
       "51610     6800.500000\n",
       "51013     8737.312283\n",
       "51510    10018.296740\n",
       "34017    14486.144187\n",
       "6075     18187.945381\n",
       "36081    21391.136091\n",
       "36005    34160.546318\n",
       "Name: density, dtype: float64"
      ]
     },
     "execution_count": 114,
     "metadata": {},
     "output_type": "execute_result"
    }
   ],
   "source": [
    "data.sort(columns = 'density').density"
   ]
  },
  {
   "cell_type": "code",
   "execution_count": 99,
   "metadata": {
    "collapsed": false
   },
   "outputs": [
    {
     "data": {
      "text/plain": [
       "fips\n",
       "1001    203.557019\n",
       "1003    394.571106\n",
       "1005    145.557398\n",
       "1007    133.340691\n",
       "1009    209.993609\n",
       "Name: SElectorate, dtype: float64"
      ]
     },
     "execution_count": 99,
     "metadata": {},
     "output_type": "execute_result"
    }
   ],
   "source": [
    "data['SElectorate'].head()"
   ]
  },
  {
   "cell_type": "code",
   "execution_count": 100,
   "metadata": {
    "collapsed": false
   },
   "outputs": [
    {
     "data": {
      "text/plain": [
       "fips\n",
       "1001     41435.460\n",
       "1003    155686.358\n",
       "1005     21186.956\n",
       "1007     17779.740\n",
       "1009     44097.316\n",
       "Name: TElectorate, dtype: float64"
      ]
     },
     "execution_count": 100,
     "metadata": {},
     "output_type": "execute_result"
    }
   ],
   "source": [
    "data['TElectorate'].head()"
   ]
  },
  {
   "cell_type": "code",
   "execution_count": 27,
   "metadata": {
    "collapsed": true
   },
   "outputs": [],
   "source": [
    "data['SElectorate']=data['TElectorate']**0.5\n",
    "data['SFemale']=data.SElectorate*data.Female/100\n",
    "data['SSeniors']=data.SElectorate*data.Population65/100\n",
    "data['SWhite']=data.SElectorate*data.WhiteNH/100\n",
    "data['SBlack']=data.SElectorate*data.Black/100\n",
    "data['SLatino']=data.SElectorate*data.Latino/100\n",
    "data['SAsian']=data.SElectorate*data.Asian/100\n",
    "data['SIncome']=data['TIncome']/data.SElectorate\n",
    "data['SBachelor']=data['TBachelor']/data.SElectorate"
   ]
  },
  {
   "cell_type": "code",
   "execution_count": 28,
   "metadata": {
    "collapsed": true
   },
   "outputs": [],
   "source": [
    "data['TDensity']=log(data.Density)*data.TElectorate\n",
    "data['TSize']=log(data.Population)*data.TElectorate"
   ]
  },
  {
   "cell_type": "code",
   "execution_count": 29,
   "metadata": {
    "collapsed": true
   },
   "outputs": [],
   "source": [
    "data['SDensity']=log(data.Density)*data.SElectorate\n",
    "data['SSize']=log(data.Population)*data.SElectorate"
   ]
  },
  {
   "cell_type": "code",
   "execution_count": 30,
   "metadata": {
    "collapsed": true
   },
   "outputs": [],
   "source": [
    "data['Strump']=data.trump/data.SElectorate\n",
    "data['Sclinton']=data.clinton/data.SElectorate"
   ]
  },
  {
   "cell_type": "code",
   "execution_count": 31,
   "metadata": {
    "collapsed": true
   },
   "outputs": [],
   "source": [
    "lm0 = smf.ols(formula='Strump ~ SElectorate -1', data = data).fit()"
   ]
  },
  {
   "cell_type": "code",
   "execution_count": 32,
   "metadata": {
    "collapsed": false
   },
   "outputs": [
    {
     "data": {
      "text/plain": [
       "0.89021225324090691"
      ]
     },
     "execution_count": 32,
     "metadata": {},
     "output_type": "execute_result"
    }
   ],
   "source": [
    "lm0.rsquared"
   ]
  },
  {
   "cell_type": "code",
   "execution_count": 33,
   "metadata": {
    "collapsed": false
   },
   "outputs": [],
   "source": [
    "def singleFactorAnalysis(factor):\n",
    "    lmT0 = smf.ols(formula='Strump ~ SElectorate -1', data = data).fit()\n",
    "    lmC0 = smf.ols(formula='Sclinton ~ SElectorate -1', data = data).fit()\n",
    "    lmT = smf.ols(formula='Strump ~ SElectorate + ' + factor +' -1', data = data).fit()\n",
    "    lmC = smf.ols(formula='Sclinton ~ SElectorate + ' + factor +' -1', data = data).fit()\n",
    "    R2T=1-(1-lmT.rsquared)/(1-lmT0.rsquared)\n",
    "    R2C=1-(1-lmC.rsquared)/(1-lmC0.rsquared)\n",
    "    return [R2T, R2C]"
   ]
  },
  {
   "cell_type": "code",
   "execution_count": null,
   "metadata": {
    "collapsed": true
   },
   "outputs": [],
   "source": [
    "def singleFactorAnalysis(factor):\n",
    "    lmT0 = smf.ols(formula='Strump ~ SElectorate -1', data = data).fit()\n",
    "    lmC0 = smf.ols(formula='Sclinton ~ SElectorate -1', data = data).fit()\n",
    "    lmT = smf.ols(formula='Strump ~ SElectorate + ' + factor +' -1', data = data).fit()\n",
    "    lmC = smf.ols(formula='Sclinton ~ SElectorate + ' + factor +' -1', data = data).fit()\n",
    "    R2T=1-(1-lmT.rsquared)/(1-lmT0.rsquared)\n",
    "    R2C=1-(1-lmC.rsquared)/(1-lmC0.rsquared)\n",
    "    return [R2T, R2C]"
   ]
  },
  {
   "cell_type": "code",
   "execution_count": 91,
   "metadata": {
    "collapsed": false,
    "scrolled": true
   },
   "outputs": [
    {
     "data": {
      "text/plain": [
       "fips\n",
       "1001    153.889106\n",
       "1003    327.494018\n",
       "1005     67.829747\n",
       "1007     99.338815\n",
       "1009    184.374389\n",
       "Name: SWhite, dtype: float64"
      ]
     },
     "execution_count": 91,
     "metadata": {},
     "output_type": "execute_result"
    }
   ],
   "source": [
    "data['SWhite'].head()"
   ]
  },
  {
   "cell_type": "code",
   "execution_count": 92,
   "metadata": {
    "collapsed": false
   },
   "outputs": [
    {
     "data": {
      "text/plain": [
       "fips\n",
       "1001    18110\n",
       "1003    72780\n",
       "1005     5431\n",
       "1007     6733\n",
       "1009    22808\n",
       "Name: trump, dtype: int64"
      ]
     },
     "execution_count": 92,
     "metadata": {},
     "output_type": "execute_result"
    }
   ],
   "source": [
    "data['trump'].head()"
   ]
  },
  {
   "cell_type": "code",
   "execution_count": 96,
   "metadata": {
    "collapsed": false
   },
   "outputs": [
    {
     "data": {
      "text/plain": [
       "fips\n",
       "1001     88.967701\n",
       "1003    184.453445\n",
       "1005     37.311742\n",
       "1007     50.494713\n",
       "1009    108.612829\n",
       "Name: Strump, dtype: float64"
      ]
     },
     "execution_count": 96,
     "metadata": {},
     "output_type": "execute_result"
    }
   ],
   "source": [
    "data['Strump'].head()"
   ]
  },
  {
   "cell_type": "code",
   "execution_count": 97,
   "metadata": {
    "collapsed": false
   },
   "outputs": [
    {
     "data": {
      "text/plain": [
       "[1.0, 0.089232258990220581]"
      ]
     },
     "execution_count": 97,
     "metadata": {},
     "output_type": "execute_result"
    }
   ],
   "source": [
    "singleFactorAnalysis('Strump')"
   ]
  },
  {
   "cell_type": "code",
   "execution_count": 93,
   "metadata": {
    "collapsed": false,
    "scrolled": true
   },
   "outputs": [
    {
     "data": {
      "text/plain": [
       "[0.0031017968304298815, 0.094430013437164395]"
      ]
     },
     "execution_count": 93,
     "metadata": {},
     "output_type": "execute_result"
    }
   ],
   "source": [
    "singleFactorAnalysis('trump')"
   ]
  },
  {
   "cell_type": "code",
   "execution_count": 34,
   "metadata": {
    "collapsed": false
   },
   "outputs": [
    {
     "data": {
      "text/plain": [
       "[0.22931754177733521, 0.034002251671160888]"
      ]
     },
     "execution_count": 34,
     "metadata": {},
     "output_type": "execute_result"
    }
   ],
   "source": [
    "singleFactorAnalysis('SWhite')"
   ]
  },
  {
   "cell_type": "code",
   "execution_count": 35,
   "metadata": {
    "collapsed": false
   },
   "outputs": [
    {
     "data": {
      "text/plain": [
       "[0.011336077696619817, 0.078504171653229315]"
      ]
     },
     "execution_count": 35,
     "metadata": {},
     "output_type": "execute_result"
    }
   ],
   "source": [
    "singleFactorAnalysis('SBlack')"
   ]
  },
  {
   "cell_type": "code",
   "execution_count": 36,
   "metadata": {
    "collapsed": false
   },
   "outputs": [
    {
     "data": {
      "text/plain": [
       "[0.21472458532444139, 0.08130135101603575]"
      ]
     },
     "execution_count": 36,
     "metadata": {},
     "output_type": "execute_result"
    }
   ],
   "source": [
    "singleFactorAnalysis('SLatino')"
   ]
  },
  {
   "cell_type": "code",
   "execution_count": 37,
   "metadata": {
    "collapsed": false
   },
   "outputs": [
    {
     "data": {
      "text/plain": [
       "[0.011019157485151254, 0.0033128042567523996]"
      ]
     },
     "execution_count": 37,
     "metadata": {},
     "output_type": "execute_result"
    }
   ],
   "source": [
    "singleFactorAnalysis('SIncome')"
   ]
  },
  {
   "cell_type": "code",
   "execution_count": 38,
   "metadata": {
    "collapsed": false
   },
   "outputs": [
    {
     "data": {
      "text/plain": [
       "[0.00044924324338557753, 0.016497196366543787]"
      ]
     },
     "execution_count": 38,
     "metadata": {},
     "output_type": "execute_result"
    }
   ],
   "source": [
    "singleFactorAnalysis('SBachelor')"
   ]
  },
  {
   "cell_type": "code",
   "execution_count": 39,
   "metadata": {
    "collapsed": false
   },
   "outputs": [
    {
     "data": {
      "text/plain": [
       "[0.023504482051503572, 0.00014452966271016887]"
      ]
     },
     "execution_count": 39,
     "metadata": {},
     "output_type": "execute_result"
    }
   ],
   "source": [
    "singleFactorAnalysis('SDensity')"
   ]
  },
  {
   "cell_type": "code",
   "execution_count": 40,
   "metadata": {
    "collapsed": false
   },
   "outputs": [
    {
     "data": {
      "text/plain": [
       "[0.13552314515697583, 0.0076372366252540624]"
      ]
     },
     "execution_count": 40,
     "metadata": {},
     "output_type": "execute_result"
    }
   ],
   "source": [
    "singleFactorAnalysis('SSize')"
   ]
  },
  {
   "cell_type": "code",
   "execution_count": 41,
   "metadata": {
    "collapsed": false
   },
   "outputs": [
    {
     "data": {
      "text/plain": [
       "[0.0014275605127216373, 0.052320513253841461]"
      ]
     },
     "execution_count": 41,
     "metadata": {},
     "output_type": "execute_result"
    }
   ],
   "source": [
    "singleFactorAnalysis('SFemale')"
   ]
  },
  {
   "cell_type": "code",
   "execution_count": 42,
   "metadata": {
    "collapsed": false
   },
   "outputs": [
    {
     "data": {
      "text/plain": [
       "[0.091021663849850443, 0.0072777884350274658]"
      ]
     },
     "execution_count": 42,
     "metadata": {},
     "output_type": "execute_result"
    }
   ],
   "source": [
    "singleFactorAnalysis('SSeniors')"
   ]
  },
  {
   "cell_type": "code",
   "execution_count": 43,
   "metadata": {
    "collapsed": false
   },
   "outputs": [
    {
     "name": "stdout",
     "output_type": "stream",
     "text": [
      "[0.33247353804066271, 0.28636749512924908]\n"
     ]
    }
   ],
   "source": [
    "lmT0 = smf.ols(formula='Strump ~ SElectorate -1', data = data).fit()\n",
    "lmT = smf.ols(formula='Strump ~ SElectorate + SFemale + SWhite + SBlack + SLatino + SIncome + data.SBachelor + data.SSeniors + data.SDensity + data.SSize-1', data = data).fit()\n",
    "R2T=1-(1-lmT.rsquared)/(1-lm0.rsquared)\n",
    "lmC0 = smf.ols(formula='Sclinton ~ SElectorate -1', data = data).fit()\n",
    "lmC = smf.ols(formula='Sclinton ~ SElectorate + SFemale + SWhite + SBlack + SLatino + SIncome + data.SBachelor + data.SSeniors + data.SDensity + data.SSize-1', data = data).fit()\n",
    "R2C=1-(1-lmC.rsquared)/(1-lmC0.rsquared)\n",
    "print [R2T, R2C]"
   ]
  },
  {
   "cell_type": "code",
   "execution_count": 338,
   "metadata": {
    "collapsed": false
   },
   "outputs": [
    {
     "name": "stdout",
     "output_type": "stream",
     "text": [
      "[0.33247353804066271, 0.28636749512924908]\n"
     ]
    }
   ],
   "source": [
    "lmT0 = smf.ols(formula='Strump ~ SElectorate -1', data = data).fit()\n",
    "lmT = smf.ols(formula='Strump ~ SElectorate + SFemale + SWhite + SBlack + SLatino + SIncome + data.SBachelor + data.SSeniors + data.SDensity + data.SSize-1', data = data).fit()\n",
    "R2T=1-(1-lmT.rsquared)/(1-lm0.rsquared)\n",
    "lmC0 = smf.ols(formula='Sclinton ~ SElectorate -1', data = data).fit()\n",
    "lmC = smf.ols(formula='Sclinton ~ SElectorate + SFemale + SWhite + SBlack + SLatino + SIncome + data.SBachelor + data.SSeniors + data.SDensity + data.SSize-1', data = data).fit()\n",
    "R2C=1-(1-lmC.rsquared)/(1-lmC0.rsquared)\n",
    "print [R2T, R2C]"
   ]
  },
  {
   "cell_type": "code",
   "execution_count": null,
   "metadata": {
    "collapsed": true
   },
   "outputs": [],
   "source": []
  },
  {
   "cell_type": "code",
   "execution_count": 44,
   "metadata": {
    "collapsed": false
   },
   "outputs": [],
   "source": [
    "def addFactorAnalysis(previos,factor):\n",
    "    lmP = smf.ols(formula='Strump ~ ' + previos +' -1', data = data).fit()\n",
    "    lmX = smf.ols(formula=factor+' ~ ' + previos +' -1', data = data).fit()\n",
    "    XP = lmX.predict()\n",
    "    dataX=data\n",
    "    dataX['X']=data[factor]-XP\n",
    "    lm = smf.ols(formula='Strump ~ ' + previos +' + X -1', data = dataX).fit()\n",
    "    pvalue=lm.pvalues[-1]\n",
    "    est=[lm.conf_int()[0].X, lm.conf_int()[1].X]\n",
    "    XR2=1-(1-lm.rsquared)/(1-lmP.rsquared)\n",
    "    print 'R2 = %.4f, p-value=%e, estimate=[%e %e]'%(XR2,pvalue,est[0],est[1])\n",
    "    return [est,pvalue,XR2]"
   ]
  },
  {
   "cell_type": "code",
   "execution_count": 45,
   "metadata": {
    "collapsed": false
   },
   "outputs": [
    {
     "name": "stdout",
     "output_type": "stream",
     "text": [
      "R2 = 0.2293, p-value=1.991783e-151, estimate=[1.969113e-01 2.265488e-01]\n"
     ]
    }
   ],
   "source": [
    "addFactorAnalysis('SElectorate','SWhite');"
   ]
  },
  {
   "cell_type": "code",
   "execution_count": 46,
   "metadata": {
    "collapsed": false
   },
   "outputs": [
    {
     "name": "stdout",
     "output_type": "stream",
     "text": [
      "R2 = 0.0273, p-value=1.298135e-17, estimate=[-1.572485e-01 -9.887793e-02]\n"
     ]
    }
   ],
   "source": [
    "addFactorAnalysis('SElectorate + SWhite','SLatino');"
   ]
  },
  {
   "cell_type": "markdown",
   "metadata": {},
   "source": [
    "*** step 3"
   ]
  },
  {
   "cell_type": "code",
   "execution_count": 47,
   "metadata": {
    "collapsed": false
   },
   "outputs": [
    {
     "name": "stdout",
     "output_type": "stream",
     "text": [
      "R2 = 0.0201, p-value=2.632620e-13, estimate=[1.053654e-04 1.820423e-04]\n"
     ]
    }
   ],
   "source": [
    "addFactorAnalysis('SElectorate + SWhite + SLatino','SIncome'); #!!!!"
   ]
  },
  {
   "cell_type": "code",
   "execution_count": 48,
   "metadata": {
    "collapsed": false
   },
   "outputs": [
    {
     "name": "stdout",
     "output_type": "stream",
     "text": [
      "R2 = 0.0016, p-value=3.729325e-02, estimate=[1.581952e-03 5.213206e-02]\n"
     ]
    }
   ],
   "source": [
    "addFactorAnalysis('SElectorate + SWhite + SLatino','SBachelor');"
   ]
  },
  {
   "cell_type": "code",
   "execution_count": 49,
   "metadata": {
    "collapsed": false
   },
   "outputs": [
    {
     "name": "stdout",
     "output_type": "stream",
     "text": [
      "R2 = 0.0003, p-value=4.024792e-01, estimate=[-6.174282e-02 2.479084e-02]\n"
     ]
    }
   ],
   "source": [
    "addFactorAnalysis('SElectorate + SWhite + SLatino','SBlack');"
   ]
  },
  {
   "cell_type": "code",
   "execution_count": 50,
   "metadata": {
    "collapsed": false
   },
   "outputs": [
    {
     "name": "stdout",
     "output_type": "stream",
     "text": [
      "R2 = 0.0049, p-value=3.261596e-04, estimate=[2.237080e-01 7.594876e-01]\n"
     ]
    }
   ],
   "source": [
    "addFactorAnalysis('SElectorate + SWhite + SLatino','SFemale');"
   ]
  },
  {
   "cell_type": "code",
   "execution_count": 51,
   "metadata": {
    "collapsed": false
   },
   "outputs": [
    {
     "name": "stdout",
     "output_type": "stream",
     "text": [
      "R2 = 0.0070, p-value=1.781980e-05, estimate=[2.843296e-03 7.613341e-03]\n"
     ]
    }
   ],
   "source": [
    "addFactorAnalysis('SElectorate + SWhite + SLatino','SDensity');"
   ]
  },
  {
   "cell_type": "code",
   "execution_count": 52,
   "metadata": {
    "collapsed": false
   },
   "outputs": [
    {
     "name": "stdout",
     "output_type": "stream",
     "text": [
      "R2 = 0.0063, p-value=4.646210e-05, estimate=[-7.845629e-03 -2.751867e-03]\n"
     ]
    }
   ],
   "source": [
    "addFactorAnalysis('SElectorate + SWhite + SLatino','SSize');"
   ]
  },
  {
   "cell_type": "markdown",
   "metadata": {},
   "source": [
    "***step 4 *****"
   ]
  },
  {
   "cell_type": "code",
   "execution_count": 53,
   "metadata": {
    "collapsed": false
   },
   "outputs": [
    {
     "name": "stdout",
     "output_type": "stream",
     "text": [
      "R2 = 0.0266, p-value=3.385761e-17, estimate=[-2.603984e-01 -1.626870e-01]\n"
     ]
    }
   ],
   "source": [
    "addFactorAnalysis('SElectorate + SWhite + SLatino + SIncome','SBachelor'); #!!!!"
   ]
  },
  {
   "cell_type": "code",
   "execution_count": 54,
   "metadata": {
    "collapsed": false
   },
   "outputs": [
    {
     "name": "stdout",
     "output_type": "stream",
     "text": [
      "R2 = 0.0282, p-value=3.817421e-18, estimate=[-1.546747e-02 -9.802783e-03]\n"
     ]
    }
   ],
   "source": [
    "addFactorAnalysis('SElectorate + SWhite + SLatino + SIncome ', 'SSize');"
   ]
  },
  {
   "cell_type": "code",
   "execution_count": 55,
   "metadata": {
    "collapsed": false
   },
   "outputs": [
    {
     "name": "stdout",
     "output_type": "stream",
     "text": [
      "R2 = 0.0148, p-value=3.695754e-10, estimate=[-2.129300e-01 -1.117267e-01]\n"
     ]
    }
   ],
   "source": [
    "addFactorAnalysis('SElectorate + SWhite + SLatino + SIncome + SSize', 'SBachelor');"
   ]
  },
  {
   "cell_type": "code",
   "execution_count": 56,
   "metadata": {
    "collapsed": false
   },
   "outputs": [
    {
     "name": "stdout",
     "output_type": "stream",
     "text": [
      "R2 = 0.0203, p-value=1.916950e-13, estimate=[2.498316e-01 4.301947e-01]\n"
     ]
    }
   ],
   "source": [
    "addFactorAnalysis('SElectorate + SWhite + SLatino + SIncome + SSize', 'SSeniors');"
   ]
  },
  {
   "cell_type": "code",
   "execution_count": 57,
   "metadata": {
    "collapsed": false
   },
   "outputs": [
    {
     "name": "stdout",
     "output_type": "stream",
     "text": [
      "R2 = 0.0114, p-value=4.017374e-08, estimate=[4.884500e-01 1.028733e+00]\n"
     ]
    }
   ],
   "source": [
    "addFactorAnalysis('SElectorate + SWhite + SLatino + SIncome + SSize', 'SFemale');"
   ]
  },
  {
   "cell_type": "code",
   "execution_count": 58,
   "metadata": {
    "collapsed": false
   },
   "outputs": [
    {
     "name": "stdout",
     "output_type": "stream",
     "text": [
      "R2 = 0.0216, p-value=3.523742e-14, estimate=[-1.462950e-02 -8.641034e-03]\n"
     ]
    }
   ],
   "source": [
    "addFactorAnalysis('SElectorate + SWhite + SLatino + SIncome + SFemale + SBachelor + SSeniors', 'SSize');"
   ]
  },
  {
   "cell_type": "code",
   "execution_count": 59,
   "metadata": {
    "collapsed": true
   },
   "outputs": [],
   "source": [
    "def addFactorAnalysisC(previos,factor):\n",
    "    lmP = smf.ols(formula='Sclinton ~ ' + previos +' -1', data = data).fit()\n",
    "    lmX = smf.ols(formula=factor+' ~ ' + previos +' -1', data = data).fit()\n",
    "    XP = lmX.predict()\n",
    "    dataX=data\n",
    "    dataX['X']=data[factor]-XP\n",
    "    lm = smf.ols(formula='Sclinton ~ ' + previos +' + X -1', data = dataX).fit()\n",
    "    pvalue=lm.pvalues[-1]\n",
    "    est=[lm.conf_int()[0].X, lm.conf_int()[1].X]\n",
    "    XR2=1-(1-lm.rsquared)/(1-lmP.rsquared)\n",
    "    print 'R2 = %.4f, p-value=%e, estimate=[%e %e]'%(XR2,pvalue,est[0],est[1])\n",
    "    return [est,pvalue,XR2]"
   ]
  },
  {
   "cell_type": "code",
   "execution_count": 60,
   "metadata": {
    "collapsed": false
   },
   "outputs": [
    {
     "name": "stdout",
     "output_type": "stream",
     "text": [
      "R2 = 0.0076, p-value=6.900844e-06, estimate=[-7.662697e-03 -3.015620e-03]\n"
     ]
    }
   ],
   "source": [
    "addFactorAnalysisC('SElectorate ', 'SSize');"
   ]
  },
  {
   "cell_type": "code",
   "execution_count": 61,
   "metadata": {
    "collapsed": false
   },
   "outputs": [
    {
     "name": "stdout",
     "output_type": "stream",
     "text": [
      "R2 = 0.0029, p-value=5.803521e-03, estimate=[-8.290389e-03 -1.404742e-03]\n"
     ]
    }
   ],
   "source": [
    "addFactorAnalysisC('SElectorate + SWhite + SLatino + SIncome + SFemale + SBachelor + SSeniors', 'SSize');"
   ]
  },
  {
   "cell_type": "code",
   "execution_count": 62,
   "metadata": {
    "collapsed": false
   },
   "outputs": [
    {
     "data": {
      "text/plain": [
       "[<matplotlib.lines.Line2D at 0x11ab72d10>]"
      ]
     },
     "execution_count": 62,
     "metadata": {},
     "output_type": "execute_result"
    },
    {
     "data": {
      "image/png": "[encoded data removed]",
      "text/plain": [
       "<matplotlib.figure.Figure at 0x11ab5b6d0>"
      ]
     },
     "metadata": {},
     "output_type": "display_data"
    }
   ],
   "source": [
    "plot(data.SSize/data.SElectorate,data.Sclinton/data.SElectorate,'.')"
   ]
  },
  {
   "cell_type": "code",
   "execution_count": 63,
   "metadata": {
    "collapsed": false
   },
   "outputs": [
    {
     "data": {
      "text/plain": [
       "[<matplotlib.lines.Line2D at 0x11bfcc7d0>]"
      ]
     },
     "execution_count": 63,
     "metadata": {},
     "output_type": "execute_result"
    },
    {
     "data": {
      "image/png": "[encoded data removed]",
      "text/plain": [
       "<matplotlib.figure.Figure at 0x1181b8e50>"
      ]
     },
     "metadata": {},
     "output_type": "display_data"
    }
   ],
   "source": [
    "plot(data.SSize/data.SElectorate,data.Strump/data.SElectorate,'.')"
   ]
  },
  {
   "cell_type": "code",
   "execution_count": 64,
   "metadata": {
    "collapsed": true
   },
   "outputs": [],
   "source": [
    "lmTrump = smf.ols(formula='Strump ~ SElectorate + SWhite + SLatino + SIncome + SFemale + SBachelor + SSeniors', data = data).fit()\n",
    "resTrump = data.Strump - lmTrump.predict()"
   ]
  },
  {
   "cell_type": "code",
   "execution_count": 65,
   "metadata": {
    "collapsed": true
   },
   "outputs": [],
   "source": [
    "lmClinton = smf.ols(formula='Sclinton ~ SElectorate + SWhite + SLatino + SIncome + SFemale + SBachelor + SSeniors', data = data).fit()\n",
    "resClinton = data.Sclinton - lmClinton.predict()"
   ]
  },
  {
   "cell_type": "code",
   "execution_count": 66,
   "metadata": {
    "collapsed": false
   },
   "outputs": [
    {
     "ename": "AttributeError",
     "evalue": "'DataFrame' object has no attribute 'resTrump'",
     "output_type": "error",
     "traceback": [
      "\u001b[0;31m---------------------------------------------------------------------------\u001b[0m",
      "\u001b[0;31mAttributeError\u001b[0m                            Traceback (most recent call last)",
      "\u001b[0;32m<ipython-input-66-0d8236f3e79a>\u001b[0m in \u001b[0;36m<module>\u001b[0;34m()\u001b[0m\n\u001b[0;32m----> 1\u001b[0;31m \u001b[0mplot\u001b[0m\u001b[0;34m(\u001b[0m\u001b[0mdata\u001b[0m\u001b[0;34m.\u001b[0m\u001b[0mSSize\u001b[0m\u001b[0;34m/\u001b[0m\u001b[0mdata\u001b[0m\u001b[0;34m.\u001b[0m\u001b[0mSElectorate\u001b[0m\u001b[0;34m,\u001b[0m\u001b[0mdata\u001b[0m\u001b[0;34m.\u001b[0m\u001b[0mresTrump\u001b[0m\u001b[0;34m/\u001b[0m\u001b[0mdata\u001b[0m\u001b[0;34m.\u001b[0m\u001b[0mSElectorate\u001b[0m\u001b[0;34m,\u001b[0m\u001b[0;34m'.'\u001b[0m\u001b[0;34m)\u001b[0m\u001b[0;34m\u001b[0m\u001b[0m\n\u001b[0m",
      "\u001b[0;32m/Users/Xianbo/anaconda/lib/python2.7/site-packages/pandas/core/generic.pyc\u001b[0m in \u001b[0;36m__getattr__\u001b[0;34m(self, name)\u001b[0m\n\u001b[1;32m   2670\u001b[0m             \u001b[0;32mif\u001b[0m \u001b[0mname\u001b[0m \u001b[0;32min\u001b[0m \u001b[0mself\u001b[0m\u001b[0;34m.\u001b[0m\u001b[0m_info_axis\u001b[0m\u001b[0;34m:\u001b[0m\u001b[0;34m\u001b[0m\u001b[0m\n\u001b[1;32m   2671\u001b[0m                 \u001b[0;32mreturn\u001b[0m \u001b[0mself\u001b[0m\u001b[0;34m[\u001b[0m\u001b[0mname\u001b[0m\u001b[0;34m]\u001b[0m\u001b[0;34m\u001b[0m\u001b[0m\n\u001b[0;32m-> 2672\u001b[0;31m             \u001b[0;32mreturn\u001b[0m \u001b[0mobject\u001b[0m\u001b[0;34m.\u001b[0m\u001b[0m__getattribute__\u001b[0m\u001b[0;34m(\u001b[0m\u001b[0mself\u001b[0m\u001b[0;34m,\u001b[0m \u001b[0mname\u001b[0m\u001b[0;34m)\u001b[0m\u001b[0;34m\u001b[0m\u001b[0m\n\u001b[0m\u001b[1;32m   2673\u001b[0m \u001b[0;34m\u001b[0m\u001b[0m\n\u001b[1;32m   2674\u001b[0m     \u001b[0;32mdef\u001b[0m \u001b[0m__setattr__\u001b[0m\u001b[0;34m(\u001b[0m\u001b[0mself\u001b[0m\u001b[0;34m,\u001b[0m \u001b[0mname\u001b[0m\u001b[0;34m,\u001b[0m \u001b[0mvalue\u001b[0m\u001b[0;34m)\u001b[0m\u001b[0;34m:\u001b[0m\u001b[0;34m\u001b[0m\u001b[0m\n",
      "\u001b[0;31mAttributeError\u001b[0m: 'DataFrame' object has no attribute 'resTrump'"
     ]
    }
   ],
   "source": [
    "plot(data.SSize/data.SElectorate,data.resTrump/data.SElectorate,'.')"
   ]
  },
  {
   "cell_type": "code",
   "execution_count": 67,
   "metadata": {
    "collapsed": false
   },
   "outputs": [
    {
     "data": {
      "text/plain": [
       "[<matplotlib.lines.Line2D at 0x11c046490>]"
      ]
     },
     "execution_count": 67,
     "metadata": {},
     "output_type": "execute_result"
    },
    {
     "data": {
      "image/png": "[encoded data removed]",
      "text/plain": [
       "<matplotlib.figure.Figure at 0x11c37b550>"
      ]
     },
     "metadata": {},
     "output_type": "display_data"
    }
   ],
   "source": [
    "plot(data.SSize/data.SElectorate,resClinton/data.SElectorate,'.')"
   ]
  },
  {
   "cell_type": "code",
   "execution_count": 68,
   "metadata": {
    "collapsed": false
   },
   "outputs": [
    {
     "data": {
      "text/plain": [
       "[<matplotlib.lines.Line2D at 0x11c38b550>]"
      ]
     },
     "execution_count": 68,
     "metadata": {},
     "output_type": "execute_result"
    },
    {
     "data": {
      "image/png": "[encoded data removed]",
      "text/plain": [
       "<matplotlib.figure.Figure at 0x11c37b250>"
      ]
     },
     "metadata": {},
     "output_type": "display_data"
    }
   ],
   "source": [
    "plot(data.SDensity/data.SElectorate,resTrump/data.SElectorate,'.')"
   ]
  },
  {
   "cell_type": "code",
   "execution_count": 69,
   "metadata": {
    "collapsed": false
   },
   "outputs": [
    {
     "data": {
      "text/plain": [
       "[<matplotlib.lines.Line2D at 0x11c38b350>]"
      ]
     },
     "execution_count": 69,
     "metadata": {},
     "output_type": "execute_result"
    },
    {
     "data": {
      "image/png": "[encoded data removed]",
      "text/plain": [
       "<matplotlib.figure.Figure at 0x11c5502d0>"
      ]
     },
     "metadata": {},
     "output_type": "display_data"
    }
   ],
   "source": [
    "plot(data.SDensity/data.SElectorate,resClinton/data.SElectorate,'.')"
   ]
  },
  {
   "cell_type": "code",
   "execution_count": null,
   "metadata": {
    "collapsed": true
   },
   "outputs": [],
   "source": []
  },
  {
   "cell_type": "code",
   "execution_count": 70,
   "metadata": {
    "collapsed": false
   },
   "outputs": [
    {
     "data": {
      "text/plain": [
       "[<matplotlib.lines.Line2D at 0x11c3c77d0>]"
      ]
     },
     "execution_count": 70,
     "metadata": {},
     "output_type": "execute_result"
    },
    {
     "data": {
      "image/png": "[encoded data removed]",
      "text/plain": [
       "<matplotlib.figure.Figure at 0x11c6aecd0>"
      ]
     },
     "metadata": {},
     "output_type": "display_data"
    }
   ],
   "source": [
    "plot(data.TSize,data.trump/data.TElectorate,'.')"
   ]
  },
  {
   "cell_type": "code",
   "execution_count": 71,
   "metadata": {
    "collapsed": false
   },
   "outputs": [
    {
     "data": {
      "text/plain": [
       "0.6807789237537512"
      ]
     },
     "execution_count": 71,
     "metadata": {},
     "output_type": "execute_result"
    }
   ],
   "source": [
    "ind=(data.Population<1e4)&(data.Population>1e3)\n",
    "1.0*sum(data.trump[ind])/(sum(data.trump[ind])+sum(data.clinton[ind]))"
   ]
  },
  {
   "cell_type": "code",
   "execution_count": 72,
   "metadata": {
    "collapsed": false
   },
   "outputs": [
    {
     "data": {
      "text/plain": [
       "0.7988649066987703"
      ]
     },
     "execution_count": 72,
     "metadata": {},
     "output_type": "execute_result"
    }
   ],
   "source": [
    "ind=(data.Population<1e3)&(data.Population>1e1)\n",
    "1.0*sum(data.trump[ind])/(sum(data.trump[ind])+sum(data.clinton[ind]))"
   ]
  },
  {
   "cell_type": "code",
   "execution_count": 73,
   "metadata": {
    "collapsed": false
   },
   "outputs": [
    {
     "data": {
      "text/plain": [
       "0.6234965717197312"
      ]
     },
     "execution_count": 73,
     "metadata": {},
     "output_type": "execute_result"
    }
   ],
   "source": [
    "ind=(data.Population<1e5)&(data.Population>1e4)\n",
    "1.0*sum(data.trump[ind])/(sum(data.trump[ind])+sum(data.clinton[ind]))"
   ]
  },
  {
   "cell_type": "code",
   "execution_count": 74,
   "metadata": {
    "collapsed": false
   },
   "outputs": [
    {
     "data": {
      "text/plain": [
       "0.5492493444489315"
      ]
     },
     "execution_count": 74,
     "metadata": {},
     "output_type": "execute_result"
    }
   ],
   "source": [
    "ind=(data.Population<1e7)&(data.Population>1e5)\n",
    "1.0*sum(data.trump[ind])/(sum(data.trump[ind])+sum(data.clinton[ind]))"
   ]
  },
  {
   "cell_type": "code",
   "execution_count": 75,
   "metadata": {
    "collapsed": false
   },
   "outputs": [
    {
     "data": {
      "text/plain": [
       "0.6141529737655815"
      ]
     },
     "execution_count": 75,
     "metadata": {},
     "output_type": "execute_result"
    }
   ],
   "source": [
    "ind=(data.Density<1e2)&(data.Population>1e1)\n",
    "1.0*sum(data.trump[ind])/(sum(data.trump[ind])+sum(data.clinton[ind]))"
   ]
  },
  {
   "cell_type": "code",
   "execution_count": 76,
   "metadata": {
    "collapsed": false
   },
   "outputs": [
    {
     "data": {
      "text/plain": [
       "0.5833182847324875"
      ]
     },
     "execution_count": 76,
     "metadata": {},
     "output_type": "execute_result"
    }
   ],
   "source": [
    "ind=(data.Density<1e3)&(data.Population>1e2)\n",
    "1.0*sum(data.trump[ind])/(sum(data.trump[ind])+sum(data.clinton[ind]))"
   ]
  },
  {
   "cell_type": "code",
   "execution_count": 77,
   "metadata": {
    "collapsed": false
   },
   "outputs": [
    {
     "data": {
      "text/plain": [
       "0.5391731233985939"
      ]
     },
     "execution_count": 77,
     "metadata": {},
     "output_type": "execute_result"
    }
   ],
   "source": [
    "ind=(data.Density<1e4)&(data.Density>1e3)\n",
    "1.0*sum(data.trump[ind])/(sum(data.trump[ind])+sum(data.clinton[ind]))"
   ]
  },
  {
   "cell_type": "code",
   "execution_count": 78,
   "metadata": {
    "collapsed": false
   },
   "outputs": [
    {
     "data": {
      "text/plain": [
       "0.19143366636014095"
      ]
     },
     "execution_count": 78,
     "metadata": {},
     "output_type": "execute_result"
    }
   ],
   "source": [
    "ind=(data.Density<1e2)&(data.Density>1e1)\n",
    "1.0*(0*sum(data.trump[ind])+1*sum(data.clinton[ind]))/sum(data.TElectorate[ind])"
   ]
  },
  {
   "cell_type": "code",
   "execution_count": 79,
   "metadata": {
    "collapsed": false
   },
   "outputs": [
    {
     "data": {
      "text/plain": [
       "0.21322817740492547"
      ]
     },
     "execution_count": 79,
     "metadata": {},
     "output_type": "execute_result"
    }
   ],
   "source": [
    "ind=(data.Density<1e3)&(data.Density>1e2)\n",
    "1.0*(0*sum(data.trump[ind])+1*sum(data.clinton[ind]))/sum(data.TElectorate[ind])"
   ]
  },
  {
   "cell_type": "code",
   "execution_count": 80,
   "metadata": {
    "collapsed": false
   },
   "outputs": [
    {
     "data": {
      "text/plain": [
       "0.21518141193793403"
      ]
     },
     "execution_count": 80,
     "metadata": {},
     "output_type": "execute_result"
    }
   ],
   "source": [
    "ind=(data.Density<1e4)&(data.Density>1e3)\n",
    "1.0*(0*sum(data.trump[ind])+1*sum(data.clinton[ind]))/sum(data.TElectorate[ind])"
   ]
  },
  {
   "cell_type": "code",
   "execution_count": 81,
   "metadata": {
    "collapsed": false
   },
   "outputs": [
    {
     "data": {
      "text/plain": [
       "0.16025357987793523"
      ]
     },
     "execution_count": 81,
     "metadata": {},
     "output_type": "execute_result"
    }
   ],
   "source": [
    "ind=(data.Density<1e3)&(data.Density>1e2)\n",
    "1.0*(sum(data.TLatino[ind]))/sum(data.TElectorate[ind])"
   ]
  },
  {
   "cell_type": "code",
   "execution_count": 82,
   "metadata": {
    "collapsed": false
   },
   "outputs": [
    {
     "data": {
      "text/plain": [
       "0.11485779576686408"
      ]
     },
     "execution_count": 82,
     "metadata": {},
     "output_type": "execute_result"
    }
   ],
   "source": [
    "ind=(data.Density<1e2)&(data.Density>1e1)\n",
    "1.0*sum(data.TLatino[ind])/sum(data.TElectorate[ind])"
   ]
  },
  {
   "cell_type": "code",
   "execution_count": 83,
   "metadata": {
    "collapsed": false
   },
   "outputs": [
    {
     "data": {
      "text/plain": [
       "0.17836676856992692"
      ]
     },
     "execution_count": 83,
     "metadata": {},
     "output_type": "execute_result"
    }
   ],
   "source": [
    "ind=(data.Density<1e4)&(data.Population>1e3)\n",
    "1.0*sum(data.TLatino[ind])/sum(data.TElectorate[ind])"
   ]
  },
  {
   "cell_type": "code",
   "execution_count": 84,
   "metadata": {
    "collapsed": false
   },
   "outputs": [
    {
     "name": "stdout",
     "output_type": "stream",
     "text": [
      "R2 = 0.1351, p-value=3.097192e-85, estimate=[-8.793852e-05 -7.244508e-05]\n"
     ]
    }
   ],
   "source": [
    "addFactorAnalysis('TElectorate','TDensity');"
   ]
  },
  {
   "cell_type": "code",
   "execution_count": 85,
   "metadata": {
    "collapsed": false
   },
   "outputs": [
    {
     "data": {
      "text/plain": [
       "3.6732543252525525"
      ]
     },
     "execution_count": 85,
     "metadata": {},
     "output_type": "execute_result"
    }
   ],
   "source": [
    "ind=(data.Density<1e2)&(data.Population>1e1)\n",
    "1.0*sum(data.TDensity[ind])/sum(data.TElectorate[ind])"
   ]
  },
  {
   "cell_type": "code",
   "execution_count": 86,
   "metadata": {
    "collapsed": false
   },
   "outputs": [
    {
     "data": {
      "text/plain": [
       "[0.069083116054927007, 0.059871395032437102]"
      ]
     },
     "execution_count": 86,
     "metadata": {},
     "output_type": "execute_result"
    }
   ],
   "source": [
    "singleFactorAnalysis('TDensity')"
   ]
  },
  {
   "cell_type": "code",
   "execution_count": 87,
   "metadata": {
    "collapsed": false
   },
   "outputs": [
    {
     "name": "stdout",
     "output_type": "stream",
     "text": [
      "                            OLS Regression Results                            \n",
      "==============================================================================\n",
      "Dep. Variable:                 trumpp   R-squared:                       0.042\n",
      "Model:                            OLS   Adj. R-squared:                  0.041\n",
      "Method:                 Least Squares   F-statistic:                     114.5\n",
      "Date:                Sat, 19 Nov 2016   Prob (F-statistic):           3.47e-26\n",
      "Time:                        10:54:58   Log-Likelihood:                 663.69\n",
      "No. Observations:                2640   AIC:                            -1323.\n",
      "Df Residuals:                    2638   BIC:                            -1312.\n",
      "Df Model:                           1                                         \n",
      "Covariance Type:            nonrobust                                         \n",
      "================================================================================\n",
      "                   coef    std err          t      P>|t|      [95.0% Conf. Int.]\n",
      "--------------------------------------------------------------------------------\n",
      "Intercept        0.7262      0.009     82.084      0.000         0.709     0.744\n",
      "log(Density)    -0.0229      0.002    -10.700      0.000        -0.027    -0.019\n",
      "==============================================================================\n",
      "Omnibus:                      275.096   Durbin-Watson:                   0.998\n",
      "Prob(Omnibus):                  0.000   Jarque-Bera (JB):              368.089\n",
      "Skew:                          -0.913   Prob(JB):                     1.18e-80\n",
      "Kurtosis:                       2.894   Cond. No.                         10.5\n",
      "==============================================================================\n",
      "\n",
      "Warnings:\n",
      "[1] Standard Errors assume that the covariance matrix of the errors is correctly specified.\n"
     ]
    }
   ],
   "source": [
    "lm_ = smf.ols(formula='trumpp ~ log(Density)', data = data).fit()\n",
    "print lm_.summary()"
   ]
  },
  {
   "cell_type": "code",
   "execution_count": 88,
   "metadata": {
    "collapsed": false
   },
   "outputs": [
    {
     "name": "stdout",
     "output_type": "stream",
     "text": [
      "                            OLS Regression Results                            \n",
      "==============================================================================\n",
      "Dep. Variable:                  trump   R-squared:                       0.911\n",
      "Model:                            OLS   Adj. R-squared:                  0.911\n",
      "Method:                 Least Squares   F-statistic:                 2.692e+04\n",
      "Date:                Sat, 19 Nov 2016   Prob (F-statistic):               0.00\n",
      "Time:                        10:54:58   Log-Likelihood:                -29685.\n",
      "No. Observations:                2640   AIC:                         5.937e+04\n",
      "Df Residuals:                    2638   BIC:                         5.939e+04\n",
      "Df Model:                           1                                         \n",
      "Covariance Type:            nonrobust                                         \n",
      "==============================================================================\n",
      "                 coef    std err          t      P>|t|      [95.0% Conf. Int.]\n",
      "------------------------------------------------------------------------------\n",
      "Intercept   6504.6446    370.460     17.558      0.000      5778.223  7231.066\n",
      "TDensity       0.0309      0.000    164.075      0.000         0.031     0.031\n",
      "==============================================================================\n",
      "Omnibus:                     3058.759   Durbin-Watson:                   1.888\n",
      "Prob(Omnibus):                  0.000   Jarque-Bera (JB):          3068236.336\n",
      "Skew:                           5.090   Prob(JB):                         0.00\n",
      "Kurtosis:                     169.702   Cond. No.                     2.02e+06\n",
      "==============================================================================\n",
      "\n",
      "Warnings:\n",
      "[1] Standard Errors assume that the covariance matrix of the errors is correctly specified.\n",
      "[2] The condition number is large, 2.02e+06. This might indicate that there are\n",
      "strong multicollinearity or other numerical problems.\n"
     ]
    }
   ],
   "source": [
    "lm_ = smf.ols(formula='trump ~ TDensity', data = data).fit()\n",
    "print lm_.summary()"
   ]
  },
  {
   "cell_type": "code",
   "execution_count": 307,
   "metadata": {
    "collapsed": true
   },
   "outputs": [],
   "source": [
    "data['logDensity']= log (data['Density'])"
   ]
  },
  {
   "cell_type": "code",
   "execution_count": 339,
   "metadata": {
    "collapsed": false
   },
   "outputs": [
    {
     "data": {
      "text/plain": [
       "Index([u'trump', u'clinton', u'processed', u'area_name', u'state_abbreviation',\n",
       "       u'Population', u'PST040210', u'PST120214', u'POP010210', u'AGE135214',\n",
       "       u'Population18', u'Population65', u'Female', u'White', u'Black',\n",
       "       u'RHI325214', u'Asian', u'RHI525214', u'Mixed', u'Latino', u'WhiteNH',\n",
       "       u'POP715213', u'Foreign', u'POP815213', u'EDU635213', u'Bachelor',\n",
       "       u'VET605213', u'LFE305213', u'HSG010214', u'HomeOwners', u'HSG096213',\n",
       "       u'HSG495213', u'HSD410213', u'HSD310213', u'Income', u'INC110213',\n",
       "       u'PVY020213', u'BZA010213', u'BZA110213', u'BZA115213', u'NES010213',\n",
       "       u'SBO001207', u'SBO315207', u'SBO115207', u'SBO215207', u'SBO515207',\n",
       "       u'SBO415207', u'SBO015207', u'MAN450207', u'WTN220207', u'RTN130207',\n",
       "       u'RTN131207', u'AFN120207', u'BPS030214', u'LND110210', u'Density',\n",
       "       u'trumpp', u'TElectorate', u'TFemale', u'TSeniors', u'TWhite',\n",
       "       u'TBlack', u'TLatino', u'TAsian', u'TIncome', u'TBachelor', u'TArea',\n",
       "       u'SElectorate', u'SFemale', u'SSeniors', u'SWhite', u'SBlack',\n",
       "       u'SLatino', u'SAsian', u'SIncome', u'SBachelor', u'TDensity', u'TSize',\n",
       "       u'SDensity', u'SSize', u'Strump', u'Sclinton', u'X', u'density',\n",
       "       u'logDensity'],\n",
       "      dtype='object')"
      ]
     },
     "execution_count": 339,
     "metadata": {},
     "output_type": "execute_result"
    }
   ],
   "source": [
    "data.columns"
   ]
  },
  {
   "cell_type": "code",
   "execution_count": 348,
   "metadata": {
    "collapsed": false
   },
   "outputs": [],
   "source": [
    "import pandas as pd\n",
    "import numpy as np\n",
    "from sklearn.datasets import make_classification\n",
    "from sklearn.datasets import make_blobs\n",
    "from matplotlib.pylab import plt\n",
    "from sklearn.decomposition import PCA\n",
    "from sklearn.metrics import silhouette_samples, silhouette_score\n",
    "import matplotlib.cm as cm\n",
    "from sklearn.cluster import KMeans\n",
    "from scipy.spatial.distance import cdist, pdist\n",
    "from sklearn.datasets import make_classification\n",
    "from sklearn.datasets import make_blobs\n",
    "%matplotlib inline"
   ]
  },
  {
   "cell_type": "code",
   "execution_count": 376,
   "metadata": {
    "collapsed": true
   },
   "outputs": [],
   "source": [
    "data1 = pd.read_csv('countytable.csv' , index_col=0 )"
   ]
  },
  {
   "cell_type": "code",
   "execution_count": 377,
   "metadata": {
    "collapsed": false
   },
   "outputs": [],
   "source": [
    "data1 = data1.drop(['area_name'])"
   ]
  },
  {
   "cell_type": "code",
   "execution_count": 378,
   "metadata": {
    "collapsed": false
   },
   "outputs": [],
   "source": [
    "data1 = data1.drop(['state_abbreviation','processed'])"
   ]
  },
  {
   "cell_type": "code",
   "execution_count": 399,
   "metadata": {
    "collapsed": false
   },
   "outputs": [],
   "source": [
    "del data1['area_name']"
   ]
  },
  {
   "cell_type": "code",
   "execution_count": 400,
   "metadata": {
    "collapsed": false
   },
   "outputs": [
    {
     "data": {
      "text/plain": [
       "Index([u'trump', u'clinton', u'PST045214', u'PST040210', u'PST120214',\n",
       "       u'POP010210', u'AGE135214', u'AGE295214', u'AGE775214', u'SEX255214',\n",
       "       u'RHI125214', u'RHI225214', u'RHI325214', u'RHI425214', u'RHI525214',\n",
       "       u'RHI625214', u'RHI725214', u'RHI825214', u'POP715213', u'POP645213',\n",
       "       u'POP815213', u'EDU635213', u'EDU685213', u'VET605213', u'LFE305213',\n",
       "       u'HSG010214', u'HSG445213', u'HSG096213', u'HSG495213', u'HSD410213',\n",
       "       u'HSD310213', u'INC910213', u'INC110213', u'PVY020213', u'BZA010213',\n",
       "       u'BZA110213', u'BZA115213', u'NES010213', u'SBO001207', u'SBO315207',\n",
       "       u'SBO115207', u'SBO215207', u'SBO515207', u'SBO415207', u'SBO015207',\n",
       "       u'MAN450207', u'WTN220207', u'RTN130207', u'RTN131207', u'AFN120207',\n",
       "       u'BPS030214', u'LND110210', u'POP060210'],\n",
       "      dtype='object')"
      ]
     },
     "execution_count": 400,
     "metadata": {},
     "output_type": "execute_result"
    }
   ],
   "source": [
    "data1.columns"
   ]
  },
  {
   "cell_type": "code",
   "execution_count": 401,
   "metadata": {
    "collapsed": false
   },
   "outputs": [
    {
     "data": {
      "text/plain": [
       "[<matplotlib.lines.Line2D at 0x122766190>]"
      ]
     },
     "execution_count": 401,
     "metadata": {},
     "output_type": "execute_result"
    },
    {
     "data": {
      "image/png": "[encoded data removed]",
      "text/plain": [
       "<matplotlib.figure.Figure at 0x11c8397d0>"
      ]
     },
     "metadata": {},
     "output_type": "display_data"
    }
   ],
   "source": [
    "plot(data['trumpp'], data1['PST045214'],'.')"
   ]
  },
  {
   "cell_type": "code",
   "execution_count": 382,
   "metadata": {
    "collapsed": false
   },
   "outputs": [
    {
     "ename": "ValueError",
     "evalue": "could not convert string to float: WV",
     "output_type": "error",
     "traceback": [
      "\u001b[0;31m---------------------------------------------------------------------------\u001b[0m",
      "\u001b[0;31mValueError\u001b[0m                                Traceback (most recent call last)",
      "\u001b[0;32m<ipython-input-382-d97cb7148eb7>\u001b[0m in \u001b[0;36m<module>\u001b[0;34m()\u001b[0m\n\u001b[1;32m      3\u001b[0m \u001b[0;32mfor\u001b[0m \u001b[0mn_clusters\u001b[0m \u001b[0;32min\u001b[0m \u001b[0mrange_n_clusters\u001b[0m\u001b[0;34m:\u001b[0m\u001b[0;34m\u001b[0m\u001b[0m\n\u001b[1;32m      4\u001b[0m     \u001b[0mkm\u001b[0m \u001b[0;34m=\u001b[0m \u001b[0mKMeans\u001b[0m\u001b[0;34m(\u001b[0m\u001b[0mn_clusters\u001b[0m\u001b[0;34m=\u001b[0m\u001b[0mn_clusters\u001b[0m\u001b[0;34m,\u001b[0m \u001b[0mrandom_state\u001b[0m\u001b[0;34m=\u001b[0m\u001b[0;36m324\u001b[0m\u001b[0;34m)\u001b[0m\u001b[0;34m\u001b[0m\u001b[0m\n\u001b[0;32m----> 5\u001b[0;31m     \u001b[0mcluster_labels\u001b[0m \u001b[0;34m=\u001b[0m \u001b[0mkm\u001b[0m\u001b[0;34m.\u001b[0m\u001b[0mfit_predict\u001b[0m\u001b[0;34m(\u001b[0m\u001b[0mX\u001b[0m\u001b[0;34m)\u001b[0m\u001b[0;34m\u001b[0m\u001b[0m\n\u001b[0m\u001b[1;32m      6\u001b[0m     \u001b[0msilhouette_avg\u001b[0m \u001b[0;34m=\u001b[0m \u001b[0msilhouette_score\u001b[0m\u001b[0;34m(\u001b[0m\u001b[0mX\u001b[0m\u001b[0;34m,\u001b[0m \u001b[0mcluster_labels\u001b[0m\u001b[0;34m)\u001b[0m\u001b[0;34m\u001b[0m\u001b[0m\n\u001b[1;32m      7\u001b[0m     \u001b[0;32mprint\u001b[0m\u001b[0;34m(\u001b[0m\u001b[0;34m\"For n_clusters ={},\"\u001b[0m\u001b[0;34m.\u001b[0m\u001b[0mformat\u001b[0m\u001b[0;34m(\u001b[0m\u001b[0mn_clusters\u001b[0m\u001b[0;34m)\u001b[0m\u001b[0;34m+\u001b[0m\u001b[0;34m\" the average silhouette_score is :{}\"\u001b[0m\u001b[0;34m.\u001b[0m\u001b[0mformat\u001b[0m\u001b[0;34m(\u001b[0m\u001b[0msilhouette_avg\u001b[0m\u001b[0;34m)\u001b[0m\u001b[0;34m)\u001b[0m\u001b[0;34m\u001b[0m\u001b[0m\n",
      "\u001b[0;32m/Users/Xianbo/.local/lib/python2.7/site-packages/sklearn/cluster/k_means_.pyc\u001b[0m in \u001b[0;36mfit_predict\u001b[0;34m(self, X, y)\u001b[0m\n\u001b[1;32m    897\u001b[0m         \u001b[0mpredict\u001b[0m\u001b[0;34m(\u001b[0m\u001b[0mX\u001b[0m\u001b[0;34m)\u001b[0m\u001b[0;34m.\u001b[0m\u001b[0;34m\u001b[0m\u001b[0m\n\u001b[1;32m    898\u001b[0m         \"\"\"\n\u001b[0;32m--> 899\u001b[0;31m         \u001b[0;32mreturn\u001b[0m \u001b[0mself\u001b[0m\u001b[0;34m.\u001b[0m\u001b[0mfit\u001b[0m\u001b[0;34m(\u001b[0m\u001b[0mX\u001b[0m\u001b[0;34m)\u001b[0m\u001b[0;34m.\u001b[0m\u001b[0mlabels_\u001b[0m\u001b[0;34m\u001b[0m\u001b[0m\n\u001b[0m\u001b[1;32m    900\u001b[0m \u001b[0;34m\u001b[0m\u001b[0m\n\u001b[1;32m    901\u001b[0m     \u001b[0;32mdef\u001b[0m \u001b[0mfit_transform\u001b[0m\u001b[0;34m(\u001b[0m\u001b[0mself\u001b[0m\u001b[0;34m,\u001b[0m \u001b[0mX\u001b[0m\u001b[0;34m,\u001b[0m \u001b[0my\u001b[0m\u001b[0;34m=\u001b[0m\u001b[0mNone\u001b[0m\u001b[0;34m)\u001b[0m\u001b[0;34m:\u001b[0m\u001b[0;34m\u001b[0m\u001b[0m\n",
      "\u001b[0;32m/Users/Xianbo/.local/lib/python2.7/site-packages/sklearn/cluster/k_means_.pyc\u001b[0m in \u001b[0;36mfit\u001b[0;34m(self, X, y)\u001b[0m\n\u001b[1;32m    879\u001b[0m         \"\"\"\n\u001b[1;32m    880\u001b[0m         \u001b[0mrandom_state\u001b[0m \u001b[0;34m=\u001b[0m \u001b[0mcheck_random_state\u001b[0m\u001b[0;34m(\u001b[0m\u001b[0mself\u001b[0m\u001b[0;34m.\u001b[0m\u001b[0mrandom_state\u001b[0m\u001b[0;34m)\u001b[0m\u001b[0;34m\u001b[0m\u001b[0m\n\u001b[0;32m--> 881\u001b[0;31m         \u001b[0mX\u001b[0m \u001b[0;34m=\u001b[0m \u001b[0mself\u001b[0m\u001b[0;34m.\u001b[0m\u001b[0m_check_fit_data\u001b[0m\u001b[0;34m(\u001b[0m\u001b[0mX\u001b[0m\u001b[0;34m)\u001b[0m\u001b[0;34m\u001b[0m\u001b[0m\n\u001b[0m\u001b[1;32m    882\u001b[0m \u001b[0;34m\u001b[0m\u001b[0m\n\u001b[1;32m    883\u001b[0m         \u001b[0mself\u001b[0m\u001b[0;34m.\u001b[0m\u001b[0mcluster_centers_\u001b[0m\u001b[0;34m,\u001b[0m \u001b[0mself\u001b[0m\u001b[0;34m.\u001b[0m\u001b[0mlabels_\u001b[0m\u001b[0;34m,\u001b[0m \u001b[0mself\u001b[0m\u001b[0;34m.\u001b[0m\u001b[0minertia_\u001b[0m\u001b[0;34m,\u001b[0m \u001b[0mself\u001b[0m\u001b[0;34m.\u001b[0m\u001b[0mn_iter_\u001b[0m \u001b[0;34m=\u001b[0m\u001b[0;31m \u001b[0m\u001b[0;31m\\\u001b[0m\u001b[0;34m\u001b[0m\u001b[0m\n",
      "\u001b[0;32m/Users/Xianbo/.local/lib/python2.7/site-packages/sklearn/cluster/k_means_.pyc\u001b[0m in \u001b[0;36m_check_fit_data\u001b[0;34m(self, X)\u001b[0m\n\u001b[1;32m    854\u001b[0m     \u001b[0;32mdef\u001b[0m \u001b[0m_check_fit_data\u001b[0m\u001b[0;34m(\u001b[0m\u001b[0mself\u001b[0m\u001b[0;34m,\u001b[0m \u001b[0mX\u001b[0m\u001b[0;34m)\u001b[0m\u001b[0;34m:\u001b[0m\u001b[0;34m\u001b[0m\u001b[0m\n\u001b[1;32m    855\u001b[0m         \u001b[0;34m\"\"\"Verify that the number of samples given is larger than k\"\"\"\u001b[0m\u001b[0;34m\u001b[0m\u001b[0m\n\u001b[0;32m--> 856\u001b[0;31m         \u001b[0mX\u001b[0m \u001b[0;34m=\u001b[0m \u001b[0mcheck_array\u001b[0m\u001b[0;34m(\u001b[0m\u001b[0mX\u001b[0m\u001b[0;34m,\u001b[0m \u001b[0maccept_sparse\u001b[0m\u001b[0;34m=\u001b[0m\u001b[0;34m'csr'\u001b[0m\u001b[0;34m,\u001b[0m \u001b[0mdtype\u001b[0m\u001b[0;34m=\u001b[0m\u001b[0;34m[\u001b[0m\u001b[0mnp\u001b[0m\u001b[0;34m.\u001b[0m\u001b[0mfloat64\u001b[0m\u001b[0;34m,\u001b[0m \u001b[0mnp\u001b[0m\u001b[0;34m.\u001b[0m\u001b[0mfloat32\u001b[0m\u001b[0;34m]\u001b[0m\u001b[0;34m)\u001b[0m\u001b[0;34m\u001b[0m\u001b[0m\n\u001b[0m\u001b[1;32m    857\u001b[0m         \u001b[0;32mif\u001b[0m \u001b[0mX\u001b[0m\u001b[0;34m.\u001b[0m\u001b[0mshape\u001b[0m\u001b[0;34m[\u001b[0m\u001b[0;36m0\u001b[0m\u001b[0;34m]\u001b[0m \u001b[0;34m<\u001b[0m \u001b[0mself\u001b[0m\u001b[0;34m.\u001b[0m\u001b[0mn_clusters\u001b[0m\u001b[0;34m:\u001b[0m\u001b[0;34m\u001b[0m\u001b[0m\n\u001b[1;32m    858\u001b[0m             raise ValueError(\"n_samples=%d should be >= n_clusters=%d\" % (\n",
      "\u001b[0;32m/Users/Xianbo/.local/lib/python2.7/site-packages/sklearn/utils/validation.pyc\u001b[0m in \u001b[0;36mcheck_array\u001b[0;34m(array, accept_sparse, dtype, order, copy, force_all_finite, ensure_2d, allow_nd, ensure_min_samples, ensure_min_features, warn_on_dtype, estimator)\u001b[0m\n\u001b[1;32m    380\u001b[0m                                       force_all_finite)\n\u001b[1;32m    381\u001b[0m     \u001b[0;32melse\u001b[0m\u001b[0;34m:\u001b[0m\u001b[0;34m\u001b[0m\u001b[0m\n\u001b[0;32m--> 382\u001b[0;31m         \u001b[0marray\u001b[0m \u001b[0;34m=\u001b[0m \u001b[0mnp\u001b[0m\u001b[0;34m.\u001b[0m\u001b[0marray\u001b[0m\u001b[0;34m(\u001b[0m\u001b[0marray\u001b[0m\u001b[0;34m,\u001b[0m \u001b[0mdtype\u001b[0m\u001b[0;34m=\u001b[0m\u001b[0mdtype\u001b[0m\u001b[0;34m,\u001b[0m \u001b[0morder\u001b[0m\u001b[0;34m=\u001b[0m\u001b[0morder\u001b[0m\u001b[0;34m,\u001b[0m \u001b[0mcopy\u001b[0m\u001b[0;34m=\u001b[0m\u001b[0mcopy\u001b[0m\u001b[0;34m)\u001b[0m\u001b[0;34m\u001b[0m\u001b[0m\n\u001b[0m\u001b[1;32m    383\u001b[0m \u001b[0;34m\u001b[0m\u001b[0m\n\u001b[1;32m    384\u001b[0m         \u001b[0;32mif\u001b[0m \u001b[0mensure_2d\u001b[0m\u001b[0;34m:\u001b[0m\u001b[0;34m\u001b[0m\u001b[0m\n",
      "\u001b[0;31mValueError\u001b[0m: could not convert string to float: WV"
     ]
    }
   ],
   "source": [
    "X=data1\n",
    "range_n_clusters = [4, 5, 6, 7]\n",
    "for n_clusters in range_n_clusters:\n",
    "    km = KMeans(n_clusters=n_clusters, random_state=324)\n",
    "    cluster_labels = km.fit_predict(X)\n",
    "    silhouette_avg = silhouette_score(X, cluster_labels)\n",
    "    print(\"For n_clusters ={},\".format(n_clusters)+\" the average silhouette_score is :{}\".format(silhouette_avg))"
   ]
  },
  {
   "cell_type": "code",
   "execution_count": 390,
   "metadata": {
    "collapsed": false
   },
   "outputs": [
    {
     "data": {
      "text/plain": [
       "Index([u'trump', u'clinton', u'processed', u'area_name', u'state_abbreviation',\n",
       "       u'PST045214', u'PST040210', u'PST120214', u'POP010210', u'AGE135214',\n",
       "       u'AGE295214', u'AGE775214', u'SEX255214', u'RHI125214', u'RHI225214',\n",
       "       u'RHI325214', u'RHI425214', u'RHI525214', u'RHI625214', u'RHI725214',\n",
       "       u'RHI825214', u'POP715213', u'POP645213', u'POP815213', u'EDU635213',\n",
       "       u'EDU685213', u'VET605213', u'LFE305213', u'HSG010214', u'HSG445213',\n",
       "       u'HSG096213', u'HSG495213', u'HSD410213', u'HSD310213', u'INC910213',\n",
       "       u'INC110213', u'PVY020213', u'BZA010213', u'BZA110213', u'BZA115213',\n",
       "       u'NES010213', u'SBO001207', u'SBO315207', u'SBO115207', u'SBO215207',\n",
       "       u'SBO515207', u'SBO415207', u'SBO015207', u'MAN450207', u'WTN220207',\n",
       "       u'RTN130207', u'RTN131207', u'AFN120207', u'BPS030214', u'LND110210',\n",
       "       u'POP060210', u'trumpp'],\n",
       "      dtype='object')"
      ]
     },
     "execution_count": 390,
     "metadata": {},
     "output_type": "execute_result"
    }
   ],
   "source": [
    "data1.columns"
   ]
  },
  {
   "cell_type": "code",
   "execution_count": 404,
   "metadata": {
    "collapsed": false
   },
   "outputs": [
    {
     "ename": "TypeError",
     "evalue": "getattr(): attribute name must be string",
     "output_type": "error",
     "traceback": [
      "\u001b[0;31m---------------------------------------------------------------------------\u001b[0m",
      "\u001b[0;31mTypeError\u001b[0m                                 Traceback (most recent call last)",
      "\u001b[0;32m<ipython-input-404-57ad5995d86d>\u001b[0m in \u001b[0;36m<module>\u001b[0;34m()\u001b[0m\n\u001b[1;32m      1\u001b[0m \u001b[0;32mfrom\u001b[0m \u001b[0msklearn\u001b[0m \u001b[0;32mimport\u001b[0m \u001b[0mlinear_model\u001b[0m\u001b[0;34m\u001b[0m\u001b[0m\n\u001b[1;32m      2\u001b[0m \u001b[0mclf\u001b[0m \u001b[0;34m=\u001b[0m \u001b[0mlinear_model\u001b[0m\u001b[0;34m.\u001b[0m\u001b[0mLinearRegression\u001b[0m\u001b[0;34m(\u001b[0m\u001b[0;34m)\u001b[0m\u001b[0;34m\u001b[0m\u001b[0m\n\u001b[0;32m----> 3\u001b[0;31m clf.fit([[getattr(t, data1 % i) for i in range(1, 8)] for t in data1.columns],\n\u001b[0m\u001b[1;32m      4\u001b[0m         [t.y for t in data1.columns])\n",
      "\u001b[0;31mTypeError\u001b[0m: getattr(): attribute name must be string"
     ]
    }
   ],
   "source": [
    "from sklearn import linear_model\n",
    "clf = linear_model.LinearRegression()\n",
    "clf.fit([[getattr(t, 'x%d' % i) for i in range(1, 8)] for t in texts],\n",
    "        [t.y for t in texts])"
   ]
  },
  {
   "cell_type": "code",
   "execution_count": null,
   "metadata": {
    "collapsed": true
   },
   "outputs": [],
   "source": []
  }
 ],
 "metadata": {
  "anaconda-cloud": {},
  "kernelspec": {
   "display_name": "Python [default]",
   "language": "python",
   "name": "python2"
  },
  "language_info": {
   "codemirror_mode": {
    "name": "ipython",
    "version": 2
   },
   "file_extension": ".py",
   "mimetype": "text/x-python",
   "name": "python",
   "nbconvert_exporter": "python",
   "pygments_lexer": "ipython2",
   "version": "2.7.12"
  }
 },
 "nbformat": 4,
 "nbformat_minor": 0
}
